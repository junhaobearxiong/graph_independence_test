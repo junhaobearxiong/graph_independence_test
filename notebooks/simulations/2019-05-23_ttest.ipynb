{
 "cells": [
  {
   "cell_type": "code",
   "execution_count": 3,
   "metadata": {},
   "outputs": [],
   "source": [
    "import numpy as np\n",
    "import math\n",
    "from tqdm import tqdm\n",
    "import pandas as pd\n",
    "import pickle\n",
    "\n",
    "from sklearn.mixture import GaussianMixture\n",
    "\n",
    "from scipy.stats import t\n",
    "\n",
    "from graspy.embed import JointRDPG\n",
    "from graspy.cluster import GaussianCluster, KMeansCluster\n",
    "from graspy.utils import symmetrize\n",
    "\n",
    "from mgcpy.independence_tests.mgc import MGC\n",
    "from mgcpy.independence_tests.dcorr import DCorr\n",
    "from mgcpy.independence_tests.rv_corr import RVCorr\n",
    "\n",
    "from simulations import rho_ER_marg, rho_sbm_marg, rho_sbm_diff_block\n",
    "from utils import estimate_block_assignment, block_permute, sort_graph, identity, sbm_params, to_distance_mtx, triu_no_diag"
   ]
  },
  {
   "cell_type": "code",
   "execution_count": 2,
   "metadata": {},
   "outputs": [],
   "source": [
    "def dcorr_ttest_power(sim_func, mc=500, alpha=0.05, given_blocks=False, blocks=None, **kwargs):\n",
    "    # power for any test that builds on distance matrices\n",
    "    # can use dcorr / mgc\n",
    "    pval_array = np.zeros(mc)\n",
    "    for i in range(mc):\n",
    "        A, B = sim_func(**kwargs) \n",
    "        dcorr = DCorr()\n",
    "        pval, _ = dcorr.p_value(\n",
    "            matrix_X=triu_no_diag(A), matrix_Y=triu_no_diag(B))\n",
    "        pval_array[i] = pval\n",
    "    power = np.where(pval_array < alpha)[0].shape[0] / mc\n",
    "    return power"
   ]
  },
  {
   "cell_type": "code",
   "execution_count": 4,
   "metadata": {},
   "outputs": [],
   "source": [
    "def ttest_power(sim_func, mc=500, alpha=0.05, **kwargs):\n",
    "    # power for any test that builds on distance matrices\n",
    "    # can use dcorr / mgc\n",
    "    pval_array = np.zeros(mc)\n",
    "    for i in range(mc):\n",
    "        A, B = sim_func(**kwargs) \n",
    "        test = RVCorr(which_test='pearson')\n",
    "        pval, _ = test.p_value(\n",
    "            matrix_X=triu_no_diag(A), matrix_Y=triu_no_diag(B))\n",
    "        pval_array[i] = pval\n",
    "    power = np.where(pval_array < alpha)[0].shape[0] / mc\n",
    "    return power"
   ]
  },
  {
   "cell_type": "code",
   "execution_count": 10,
   "metadata": {},
   "outputs": [],
   "source": [
    "A, B = rho_ER_marg(rho=0.1, p=0.5, q=0.5, n=100)"
   ]
  },
  {
   "cell_type": "code",
   "execution_count": 14,
   "metadata": {},
   "outputs": [
    {
     "data": {
      "text/plain": [
       "(4950, 1)"
      ]
     },
     "execution_count": 14,
     "metadata": {},
     "output_type": "execute_result"
    },
    {
     "name": "stderr",
     "output_type": "stream",
     "text": [
      "ERROR:root:Invalid alias: The name clear can't be aliased because it is another magic command.\n",
      "ERROR:root:Invalid alias: The name more can't be aliased because it is another magic command.\n",
      "ERROR:root:Invalid alias: The name less can't be aliased because it is another magic command.\n",
      "ERROR:root:Invalid alias: The name man can't be aliased because it is another magic command.\n"
     ]
    }
   ],
   "source": [
    "triu_no_diag(B).shape"
   ]
  },
  {
   "cell_type": "code",
   "execution_count": 3,
   "metadata": {},
   "outputs": [],
   "source": [
    "def process_parallel_output(graph_type):\n",
    "    n_arr = np.linspace(10, 100, 10, dtype=int)\n",
    "    rho_arr = np.array([0, 0.1, -0.1])\n",
    "    power = np.zeros((rho_arr.shape[0], n_arr.shape[0]))\n",
    "    with open('../../results/rho_{}_power_parallel_ttest.pkl'.format(graph_type), 'rb') as f:\n",
    "        results = pickle.load(f)\n",
    "\n",
    "    count = 0\n",
    "    for j, rho in enumerate(rho_arr):\n",
    "        for k, n in enumerate(n_arr):\n",
    "            power[j, k] = results[count][2]\n",
    "            count += 1\n",
    "    with open('../../results/rho_{}_power_ttest.pkl'.format(graph_type), 'wb') as f:\n",
    "        pickle.dump(power, f)"
   ]
  },
  {
   "cell_type": "code",
   "execution_count": 5,
   "metadata": {},
   "outputs": [],
   "source": [
    "process_parallel_output('er')"
   ]
  },
  {
   "cell_type": "code",
   "execution_count": 8,
   "metadata": {},
   "outputs": [],
   "source": [
    "graph_type = 'sbm'\n",
    "with open('../../results/rho_{}_power_parallel_ttest.pkl'.format(graph_type), 'rb') as f:\n",
    "    results = pickle.load(f)"
   ]
  },
  {
   "cell_type": "code",
   "execution_count": 9,
   "metadata": {},
   "outputs": [
    {
     "data": {
      "text/plain": [
       "[(0.0, 10, 0.002),\n",
       " (0.0, 20, 0.592),\n",
       " (0.0, 30, 0.894),\n",
       " (0.0, 40, 1.0),\n",
       " (0.0, 50, 1.0),\n",
       " (0.0, 60, 1.0),\n",
       " (0.0, 70, 1.0),\n",
       " (0.0, 80, 1.0),\n",
       " (0.0, 90, 1.0),\n",
       " (0.0, 100, 1.0),\n",
       " (0.1, 10, 0.93),\n",
       " (0.1, 20, 0.856),\n",
       " (0.1, 30, 1.0),\n",
       " (0.1, 40, 1.0),\n",
       " (0.1, 50, 1.0),\n",
       " (0.1, 60, 1.0),\n",
       " (0.1, 70, 1.0),\n",
       " (0.1, 80, 1.0),\n",
       " (0.1, 90, 1.0),\n",
       " (0.1, 100, 1.0),\n",
       " (-0.1, 10, 0.61),\n",
       " (-0.1, 20, 0.142),\n",
       " (-0.1, 30, 0.29),\n",
       " (-0.1, 40, 0.696),\n",
       " (-0.1, 50, 0.82),\n",
       " (-0.1, 60, 0.92),\n",
       " (-0.1, 70, 0.972),\n",
       " (-0.1, 80, 0.982),\n",
       " (-0.1, 90, 1.0),\n",
       " (-0.1, 100, 1.0)]"
      ]
     },
     "execution_count": 9,
     "metadata": {},
     "output_type": "execute_result"
    }
   ],
   "source": [
    "results"
   ]
  },
  {
   "cell_type": "code",
   "execution_count": null,
   "metadata": {},
   "outputs": [],
   "source": []
  }
 ],
 "metadata": {
  "kernelspec": {
   "display_name": "Python 3",
   "language": "python",
   "name": "python3"
  },
  "language_info": {
   "codemirror_mode": {
    "name": "ipython",
    "version": 3
   },
   "file_extension": ".py",
   "mimetype": "text/x-python",
   "name": "python",
   "nbconvert_exporter": "python",
   "pygments_lexer": "ipython3",
   "version": "3.7.2"
  }
 },
 "nbformat": 4,
 "nbformat_minor": 2
}
