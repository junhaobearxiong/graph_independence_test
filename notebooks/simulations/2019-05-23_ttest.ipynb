{
 "cells": [
  {
   "cell_type": "code",
   "execution_count": 55,
   "metadata": {},
   "outputs": [],
   "source": [
    "import numpy as np\n",
    "import math\n",
    "from tqdm import tqdm\n",
    "import pandas as pd\n",
    "import pickle\n",
    "\n",
    "from sklearn.mixture import GaussianMixture\n",
    "\n",
    "from scipy.stats import t\n",
    "\n",
    "from graspy.embed import JointRDPG\n",
    "from graspy.cluster import GaussianCluster, KMeansCluster\n",
    "from graspy.utils import symmetrize\n",
    "\n",
    "from mgcpy.independence_tests.mgc import MGC\n",
    "from mgcpy.independence_tests.dcorr import DCorr\n",
    "\n",
    "from simulations import rho_ER_marg, rho_sbm_marg, rho_sbm_diff_block\n",
    "from utils import estimate_block_assignment, block_permute, sort_graph, identity, sbm_params, to_distance_mtx, triu_no_diag"
   ]
  },
  {
   "cell_type": "code",
   "execution_count": 59,
   "metadata": {},
   "outputs": [],
   "source": [
    "def dcorr_ttest_power(sim_func, mc=500, alpha=0.05, given_blocks=False, blocks=None, **kwargs):\n",
    "    # power for any test that builds on distance matrices\n",
    "    # can use dcorr / mgc\n",
    "    pval_array = np.zeros(mc)\n",
    "    for i in range(mc):\n",
    "        A, B = sim_func(**kwargs) \n",
    "        dcorr = DCorr()\n",
    "        pval, _ = dcorr.p_value(\n",
    "            matrix_X=triu_no_diag(A), matrix_Y=triu_no_diag(B))\n",
    "        pval_array[i] = pval\n",
    "    power = np.where(pval_array < alpha)[0].shape[0] / mc\n",
    "    return power"
   ]
  },
  {
   "cell_type": "code",
   "execution_count": 61,
   "metadata": {},
   "outputs": [],
   "source": [
    "import warnings\n",
    "warnings.filterwarnings('ignore')"
   ]
  },
  {
   "cell_type": "code",
   "execution_count": 62,
   "metadata": {},
   "outputs": [
    {
     "name": "stdout",
     "output_type": "stream",
     "text": [
      "finish for rho=0.0, n=10\n",
      "finish for rho=0.0, n=20\n",
      "finish for rho=0.0, n=30\n",
      "finish for rho=0.0, n=40\n",
      "finish for rho=0.0, n=50\n",
      "finish for rho=0.0, n=60\n",
      "finish for rho=0.0, n=70\n"
     ]
    },
    {
     "ename": "KeyboardInterrupt",
     "evalue": "",
     "output_type": "error",
     "traceback": [
      "\u001b[0;31m---------------------------------------------------------------------------\u001b[0m",
      "\u001b[0;31mKeyboardInterrupt\u001b[0m                         Traceback (most recent call last)",
      "\u001b[0;32m<timed exec>\u001b[0m in \u001b[0;36m<module>\u001b[0;34m\u001b[0m\n",
      "\u001b[0;32m<ipython-input-59-24155ee0ee2c>\u001b[0m in \u001b[0;36mdcorr_ttest_power\u001b[0;34m(sim_func, mc, alpha, given_blocks, blocks, **kwargs)\u001b[0m\n\u001b[1;32m      7\u001b[0m         \u001b[0mdcorr\u001b[0m \u001b[0;34m=\u001b[0m \u001b[0mDCorr\u001b[0m\u001b[0;34m(\u001b[0m\u001b[0;34m)\u001b[0m\u001b[0;34m\u001b[0m\u001b[0;34m\u001b[0m\u001b[0m\n\u001b[1;32m      8\u001b[0m         pval, _ = dcorr.p_value(\n\u001b[0;32m----> 9\u001b[0;31m             matrix_X=triu_no_diag(A), matrix_Y=triu_no_diag(B))\n\u001b[0m\u001b[1;32m     10\u001b[0m         \u001b[0mpval_array\u001b[0m\u001b[0;34m[\u001b[0m\u001b[0mi\u001b[0m\u001b[0;34m]\u001b[0m \u001b[0;34m=\u001b[0m \u001b[0mpval\u001b[0m\u001b[0;34m\u001b[0m\u001b[0;34m\u001b[0m\u001b[0m\n\u001b[1;32m     11\u001b[0m     \u001b[0mpower\u001b[0m \u001b[0;34m=\u001b[0m \u001b[0mnp\u001b[0m\u001b[0;34m.\u001b[0m\u001b[0mwhere\u001b[0m\u001b[0;34m(\u001b[0m\u001b[0mpval_array\u001b[0m \u001b[0;34m<\u001b[0m \u001b[0malpha\u001b[0m\u001b[0;34m)\u001b[0m\u001b[0;34m[\u001b[0m\u001b[0;36m0\u001b[0m\u001b[0;34m]\u001b[0m\u001b[0;34m.\u001b[0m\u001b[0mshape\u001b[0m\u001b[0;34m[\u001b[0m\u001b[0;36m0\u001b[0m\u001b[0;34m]\u001b[0m \u001b[0;34m/\u001b[0m \u001b[0mmc\u001b[0m\u001b[0;34m\u001b[0m\u001b[0;34m\u001b[0m\u001b[0m\n",
      "\u001b[0;32m~/Documents/Projects/mgcpy/mgcpy/independence_tests/dcorr.py\u001b[0m in \u001b[0;36mp_value\u001b[0;34m(self, matrix_X, matrix_Y, replication_factor, is_fast, fast_dcorr_data)\u001b[0m\n\u001b[1;32m    270\u001b[0m             \u001b[0;32mreturn\u001b[0m \u001b[0mp_value\u001b[0m\u001b[0;34m,\u001b[0m \u001b[0mp_value_metadata\u001b[0m\u001b[0;34m\u001b[0m\u001b[0;34m\u001b[0m\u001b[0m\n\u001b[1;32m    271\u001b[0m         \u001b[0;32melse\u001b[0m\u001b[0;34m:\u001b[0m\u001b[0;34m\u001b[0m\u001b[0;34m\u001b[0m\u001b[0m\n\u001b[0;32m--> 272\u001b[0;31m             \u001b[0;32mreturn\u001b[0m \u001b[0msuper\u001b[0m\u001b[0;34m(\u001b[0m\u001b[0mDCorr\u001b[0m\u001b[0;34m,\u001b[0m \u001b[0mself\u001b[0m\u001b[0;34m)\u001b[0m\u001b[0;34m.\u001b[0m\u001b[0mp_value\u001b[0m\u001b[0;34m(\u001b[0m\u001b[0mmatrix_X\u001b[0m\u001b[0;34m,\u001b[0m \u001b[0mmatrix_Y\u001b[0m\u001b[0;34m)\u001b[0m\u001b[0;34m\u001b[0m\u001b[0;34m\u001b[0m\u001b[0m\n\u001b[0m\u001b[1;32m    273\u001b[0m \u001b[0;34m\u001b[0m\u001b[0m\n\u001b[1;32m    274\u001b[0m     \u001b[0;32mdef\u001b[0m \u001b[0m_fast_dcorr_p_value\u001b[0m\u001b[0;34m(\u001b[0m\u001b[0mself\u001b[0m\u001b[0;34m,\u001b[0m \u001b[0mmatrix_X\u001b[0m\u001b[0;34m,\u001b[0m \u001b[0mmatrix_Y\u001b[0m\u001b[0;34m,\u001b[0m \u001b[0msub_samples\u001b[0m\u001b[0;34m=\u001b[0m\u001b[0;36m10\u001b[0m\u001b[0;34m)\u001b[0m\u001b[0;34m:\u001b[0m\u001b[0;34m\u001b[0m\u001b[0;34m\u001b[0m\u001b[0m\n",
      "\u001b[0;32m~/Documents/Projects/mgcpy/mgcpy/independence_tests/abstract_class.py\u001b[0m in \u001b[0;36mp_value\u001b[0;34m(self, matrix_X, matrix_Y, replication_factor)\u001b[0m\n\u001b[1;32m     99\u001b[0m             \u001b[0mJournal\u001b[0m \u001b[0mof\u001b[0m \u001b[0mMultivariate\u001b[0m \u001b[0mAnalysis\u001b[0m \u001b[0;36m117\u001b[0m \u001b[0;34m(\u001b[0m\u001b[0;36m2013\u001b[0m\u001b[0;34m)\u001b[0m\u001b[0;34m:\u001b[0m \u001b[0;36m193\u001b[0m\u001b[0;34m-\u001b[0m\u001b[0;36m213.\u001b[0m\u001b[0;34m\u001b[0m\u001b[0;34m\u001b[0m\u001b[0m\n\u001b[1;32m    100\u001b[0m             '''\n\u001b[0;32m--> 101\u001b[0;31m             \u001b[0mT\u001b[0m\u001b[0;34m,\u001b[0m \u001b[0mdf\u001b[0m \u001b[0;34m=\u001b[0m \u001b[0mself\u001b[0m\u001b[0;34m.\u001b[0m\u001b[0munbiased_T\u001b[0m\u001b[0;34m(\u001b[0m\u001b[0mmatrix_X\u001b[0m\u001b[0;34m=\u001b[0m\u001b[0mmatrix_X\u001b[0m\u001b[0;34m,\u001b[0m \u001b[0mmatrix_Y\u001b[0m\u001b[0;34m=\u001b[0m\u001b[0mmatrix_Y\u001b[0m\u001b[0;34m)\u001b[0m\u001b[0;34m\u001b[0m\u001b[0;34m\u001b[0m\u001b[0m\n\u001b[0m\u001b[1;32m    102\u001b[0m             \u001b[0;31m# p-value is the probability of obtaining values more extreme than the test statistic\u001b[0m\u001b[0;34m\u001b[0m\u001b[0;34m\u001b[0m\u001b[0;34m\u001b[0m\u001b[0m\n\u001b[1;32m    103\u001b[0m             \u001b[0;31m# under the null\u001b[0m\u001b[0;34m\u001b[0m\u001b[0;34m\u001b[0m\u001b[0;34m\u001b[0m\u001b[0m\n",
      "\u001b[0;32m~/Documents/Projects/mgcpy/mgcpy/independence_tests/dcorr.py\u001b[0m in \u001b[0;36munbiased_T\u001b[0;34m(self, matrix_X, matrix_Y)\u001b[0m\n\u001b[1;32m    199\u001b[0m         \u001b[0;34m:\u001b[0m\u001b[0mrtype\u001b[0m\u001b[0;34m:\u001b[0m \u001b[0mnumpy\u001b[0m\u001b[0;34m.\u001b[0m\u001b[0mfloat\u001b[0m\u001b[0;34m\u001b[0m\u001b[0;34m\u001b[0m\u001b[0m\n\u001b[1;32m    200\u001b[0m         '''\n\u001b[0;32m--> 201\u001b[0;31m         \u001b[0mtest_stat\u001b[0m\u001b[0;34m,\u001b[0m \u001b[0m_\u001b[0m \u001b[0;34m=\u001b[0m \u001b[0mself\u001b[0m\u001b[0;34m.\u001b[0m\u001b[0mtest_statistic\u001b[0m\u001b[0;34m(\u001b[0m\u001b[0mmatrix_X\u001b[0m\u001b[0;34m=\u001b[0m\u001b[0mmatrix_X\u001b[0m\u001b[0;34m,\u001b[0m \u001b[0mmatrix_Y\u001b[0m\u001b[0;34m=\u001b[0m\u001b[0mmatrix_Y\u001b[0m\u001b[0;34m)\u001b[0m\u001b[0;34m\u001b[0m\u001b[0;34m\u001b[0m\u001b[0m\n\u001b[0m\u001b[1;32m    202\u001b[0m \u001b[0;34m\u001b[0m\u001b[0m\n\u001b[1;32m    203\u001b[0m         \u001b[0mn\u001b[0m \u001b[0;34m=\u001b[0m \u001b[0mmatrix_X\u001b[0m\u001b[0;34m.\u001b[0m\u001b[0mshape\u001b[0m\u001b[0;34m[\u001b[0m\u001b[0;36m0\u001b[0m\u001b[0;34m]\u001b[0m\u001b[0;34m\u001b[0m\u001b[0;34m\u001b[0m\u001b[0m\n",
      "\u001b[0;32m~/Documents/Projects/mgcpy/mgcpy/independence_tests/dcorr.py\u001b[0m in \u001b[0;36mtest_statistic\u001b[0;34m(self, matrix_X, matrix_Y, is_fast, fast_dcorr_data)\u001b[0m\n\u001b[1;32m     85\u001b[0m             \u001b[0;31m# transformed_dist_mtx_X, transformed_dist_mtx_Y = dist_transform(matrix_X, matrix_Y, self.which_test)\u001b[0m\u001b[0;34m\u001b[0m\u001b[0;34m\u001b[0m\u001b[0;34m\u001b[0m\u001b[0m\n\u001b[1;32m     86\u001b[0m \u001b[0;34m\u001b[0m\u001b[0m\n\u001b[0;32m---> 87\u001b[0;31m             \u001b[0mtransformed_distance_matrices\u001b[0m \u001b[0;34m=\u001b[0m \u001b[0mtransform_distance_matrix\u001b[0m\u001b[0;34m(\u001b[0m\u001b[0mmatrix_X\u001b[0m\u001b[0;34m,\u001b[0m \u001b[0mmatrix_Y\u001b[0m\u001b[0;34m,\u001b[0m \u001b[0mbase_global_correlation\u001b[0m\u001b[0;34m=\u001b[0m\u001b[0mself\u001b[0m\u001b[0;34m.\u001b[0m\u001b[0mwhich_test\u001b[0m\u001b[0;34m,\u001b[0m \u001b[0mis_ranked\u001b[0m\u001b[0;34m=\u001b[0m\u001b[0;32mFalse\u001b[0m\u001b[0;34m)\u001b[0m\u001b[0;34m\u001b[0m\u001b[0;34m\u001b[0m\u001b[0m\n\u001b[0m\u001b[1;32m     88\u001b[0m             \u001b[0mtransformed_dist_mtx_X\u001b[0m \u001b[0;34m=\u001b[0m \u001b[0mtransformed_distance_matrices\u001b[0m\u001b[0;34m[\u001b[0m\u001b[0;34m'centered_distance_matrix_A'\u001b[0m\u001b[0;34m]\u001b[0m\u001b[0;34m\u001b[0m\u001b[0;34m\u001b[0m\u001b[0m\n\u001b[1;32m     89\u001b[0m             \u001b[0mtransformed_dist_mtx_Y\u001b[0m \u001b[0;34m=\u001b[0m \u001b[0mtransformed_distance_matrices\u001b[0m\u001b[0;34m[\u001b[0m\u001b[0;34m'centered_distance_matrix_B'\u001b[0m\u001b[0;34m]\u001b[0m\u001b[0;34m\u001b[0m\u001b[0;34m\u001b[0m\u001b[0m\n",
      "\u001b[0;32m~/Documents/Projects/mgcpy/mgcpy/independence_tests/utils/distance_transform.pyx\u001b[0m in \u001b[0;36mmgcpy.independence_tests.utils.distance_transform.transform_distance_matrix\u001b[0;34m()\u001b[0m\n",
      "\u001b[0;32m~/Documents/Projects/mgcpy/mgcpy/independence_tests/utils/distance_transform.pyx\u001b[0m in \u001b[0;36mmgcpy.independence_tests.utils.distance_transform.transform_distance_matrix\u001b[0;34m()\u001b[0m\n",
      "\u001b[0;32m~/Documents/Projects/mgcpy/mgcpy/independence_tests/utils/distance_transform.pyx\u001b[0m in \u001b[0;36mmgcpy.independence_tests.utils.distance_transform.center_distance_matrix\u001b[0;34m()\u001b[0m\n",
      "\u001b[0;32m~/Documents/Projects/graph_independence_test/env/lib/python3.7/site-packages/numpy/core/_methods.py\u001b[0m in \u001b[0;36m_sum\u001b[0;34m(a, axis, dtype, out, keepdims, initial)\u001b[0m\n\u001b[1;32m     32\u001b[0m     \u001b[0;32mreturn\u001b[0m \u001b[0mumr_minimum\u001b[0m\u001b[0;34m(\u001b[0m\u001b[0ma\u001b[0m\u001b[0;34m,\u001b[0m \u001b[0maxis\u001b[0m\u001b[0;34m,\u001b[0m \u001b[0;32mNone\u001b[0m\u001b[0;34m,\u001b[0m \u001b[0mout\u001b[0m\u001b[0;34m,\u001b[0m \u001b[0mkeepdims\u001b[0m\u001b[0;34m,\u001b[0m \u001b[0minitial\u001b[0m\u001b[0;34m)\u001b[0m\u001b[0;34m\u001b[0m\u001b[0;34m\u001b[0m\u001b[0m\n\u001b[1;32m     33\u001b[0m \u001b[0;34m\u001b[0m\u001b[0m\n\u001b[0;32m---> 34\u001b[0;31m def _sum(a, axis=None, dtype=None, out=None, keepdims=False,\n\u001b[0m\u001b[1;32m     35\u001b[0m          initial=_NoValue):\n\u001b[1;32m     36\u001b[0m     \u001b[0;32mreturn\u001b[0m \u001b[0mumr_sum\u001b[0m\u001b[0;34m(\u001b[0m\u001b[0ma\u001b[0m\u001b[0;34m,\u001b[0m \u001b[0maxis\u001b[0m\u001b[0;34m,\u001b[0m \u001b[0mdtype\u001b[0m\u001b[0;34m,\u001b[0m \u001b[0mout\u001b[0m\u001b[0;34m,\u001b[0m \u001b[0mkeepdims\u001b[0m\u001b[0;34m,\u001b[0m \u001b[0minitial\u001b[0m\u001b[0;34m)\u001b[0m\u001b[0;34m\u001b[0m\u001b[0;34m\u001b[0m\u001b[0m\n",
      "\u001b[0;31mKeyboardInterrupt\u001b[0m: "
     ]
    }
   ],
   "source": [
    "%%time\n",
    "n_arr = np.linspace(10, 100, 10, dtype=int)\n",
    "rho_arr = np.array([0, 0.1, -0.1])\n",
    "k = 2\n",
    "P1 = sbm_params(a=0.7, b=0.3)\n",
    "P2 = sbm_params(a=0.2, b=0.5)\n",
    "nmc = 500\n",
    "power_sbm_marg = np.zeros((rho_arr.shape[0], n_arr.shape[0]))\n",
    "\n",
    "for i, rho in enumerate(rho_arr):\n",
    "    for j, n in enumerate(n_arr):\n",
    "        blocks = np.repeat(np.arange(k), n//k)\n",
    "        test_power = dcorr_ttest_power(rho_sbm_marg, given_blocks=True, blocks=blocks,\n",
    "                                 rho=rho, AL=P1, BL=P2, k=k, n=n, mc=nmc)\n",
    "        power_sbm_marg[i, j] = test_power\n",
    "        print('finish for rho={}, n={}'.format(rho, n))"
   ]
  },
  {
   "cell_type": "code",
   "execution_count": 63,
   "metadata": {},
   "outputs": [
    {
     "data": {
      "text/plain": [
       "array([[0.   , 0.464, 0.576, 0.944, 1.   , 1.   , 1.   , 0.   , 0.   ,\n",
       "        0.   ],\n",
       "       [0.   , 0.   , 0.   , 0.   , 0.   , 0.   , 0.   , 0.   , 0.   ,\n",
       "        0.   ],\n",
       "       [0.   , 0.   , 0.   , 0.   , 0.   , 0.   , 0.   , 0.   , 0.   ,\n",
       "        0.   ]])"
      ]
     },
     "execution_count": 63,
     "metadata": {},
     "output_type": "execute_result"
    }
   ],
   "source": [
    "power_sbm_marg"
   ]
  },
  {
   "cell_type": "code",
   "execution_count": 35,
   "metadata": {},
   "outputs": [
    {
     "name": "stdout",
     "output_type": "stream",
     "text": [
      "finish for rho=0.0, n=10\n",
      "finish for rho=0.0, n=20\n",
      "finish for rho=0.0, n=30\n",
      "finish for rho=0.0, n=40\n",
      "finish for rho=0.0, n=50\n",
      "finish for rho=0.0, n=60\n",
      "finish for rho=0.0, n=70\n",
      "finish for rho=0.0, n=80\n",
      "finish for rho=0.0, n=90\n",
      "finish for rho=0.0, n=100\n",
      "finish for rho=0.1, n=10\n",
      "finish for rho=0.1, n=20\n",
      "finish for rho=0.1, n=30\n",
      "finish for rho=0.1, n=40\n",
      "finish for rho=0.1, n=50\n",
      "finish for rho=0.1, n=60\n",
      "finish for rho=0.1, n=70\n",
      "finish for rho=0.1, n=80\n",
      "finish for rho=0.1, n=90\n",
      "finish for rho=0.1, n=100\n",
      "finish for rho=-0.1, n=10\n",
      "finish for rho=-0.1, n=20\n",
      "finish for rho=-0.1, n=30\n",
      "finish for rho=-0.1, n=40\n",
      "finish for rho=-0.1, n=50\n",
      "finish for rho=-0.1, n=60\n",
      "finish for rho=-0.1, n=70\n",
      "finish for rho=-0.1, n=80\n",
      "finish for rho=-0.1, n=90\n",
      "finish for rho=-0.1, n=100\n",
      "CPU times: user 2min 37s, sys: 1.09 s, total: 2min 39s\n",
      "Wall time: 2min 39s\n"
     ]
    }
   ],
   "source": [
    "%%time\n",
    "n_arr = np.linspace(10, 100, 10, dtype=int)\n",
    "rho_arr = np.array([0, 0.1, -0.1])\n",
    "k = 2\n",
    "P1 = sbm_params(a=0.7, b=0.3)\n",
    "P2 = sbm_params(a=0.7, b=0.3)\n",
    "nmc = 500\n",
    "power_sbm = np.zeros((rho_arr.shape[0], n_arr.shape[0]))\n",
    "\n",
    "for i, rho in enumerate(rho_arr):\n",
    "    for j, n in enumerate(n_arr):\n",
    "        blocks = np.repeat(np.arange(k), n//k)\n",
    "        test_power = dcorr_ttest_power(rho_sbm_marg, given_blocks=True, blocks=blocks,\n",
    "                                 rho=rho, AL=P1, BL=P2, k=k, n=n, mc=nmc)\n",
    "        power_sbm[i, j] = test_power\n",
    "        print('finish for rho={}, n={}'.format(rho, n))"
   ]
  },
  {
   "cell_type": "code",
   "execution_count": 36,
   "metadata": {},
   "outputs": [
    {
     "data": {
      "text/plain": [
       "array([[0.2  , 0.624, 0.934, 0.998, 1.   , 1.   , 1.   , 1.   , 1.   ,\n",
       "        1.   ],\n",
       "       [0.378, 0.936, 1.   , 1.   , 1.   , 1.   , 1.   , 1.   , 1.   ,\n",
       "        1.   ],\n",
       "       [0.102, 0.236, 0.476, 0.632, 0.826, 0.938, 0.98 , 0.994, 1.   ,\n",
       "        0.998]])"
      ]
     },
     "execution_count": 36,
     "metadata": {},
     "output_type": "execute_result"
    }
   ],
   "source": [
    "power_sbm"
   ]
  },
  {
   "cell_type": "code",
   "execution_count": 37,
   "metadata": {},
   "outputs": [
    {
     "name": "stdout",
     "output_type": "stream",
     "text": [
      "finish for rho=0.0, n=10\n",
      "finish for rho=0.0, n=20\n",
      "finish for rho=0.0, n=30\n",
      "finish for rho=0.0, n=40\n",
      "finish for rho=0.0, n=50\n",
      "finish for rho=0.0, n=60\n",
      "finish for rho=0.0, n=70\n",
      "finish for rho=0.0, n=80\n",
      "finish for rho=0.0, n=90\n",
      "finish for rho=0.0, n=100\n",
      "finish for rho=0.1, n=10\n",
      "finish for rho=0.1, n=20\n",
      "finish for rho=0.1, n=30\n",
      "finish for rho=0.1, n=40\n",
      "finish for rho=0.1, n=50\n",
      "finish for rho=0.1, n=60\n",
      "finish for rho=0.1, n=70\n",
      "finish for rho=0.1, n=80\n",
      "finish for rho=0.1, n=90\n",
      "finish for rho=0.1, n=100\n",
      "finish for rho=-0.1, n=10\n",
      "finish for rho=-0.1, n=20\n",
      "finish for rho=-0.1, n=30\n",
      "finish for rho=-0.1, n=40\n",
      "finish for rho=-0.1, n=50\n",
      "finish for rho=-0.1, n=60\n",
      "finish for rho=-0.1, n=70\n",
      "finish for rho=-0.1, n=80\n",
      "finish for rho=-0.1, n=90\n",
      "finish for rho=-0.1, n=100\n",
      "CPU times: user 2min 26s, sys: 1.01 s, total: 2min 27s\n",
      "Wall time: 2min 27s\n"
     ]
    }
   ],
   "source": [
    "%%time\n",
    "n_arr = np.linspace(10, 100, 10, dtype=int)\n",
    "rho_arr = np.array([0, 0.1, -0.1])\n",
    "p = 0.5\n",
    "q = 0.5\n",
    "nmc = 500\n",
    "k = 1\n",
    "power_er = np.zeros((rho_arr.shape[0], n_arr.shape[0]))\n",
    "\n",
    "for i, rho in enumerate(rho_arr):\n",
    "    for j, n in enumerate(n_arr):\n",
    "        blocks = np.repeat(np.arange(k), n//k)\n",
    "        test_power = dcorr_ttest_power(rho_ER_marg, given_blocks=True, blocks=blocks,\n",
    "                                           rho=rho, p=p, q=q, n=n, mc=nmc)\n",
    "        power_er[i, j] = test_power\n",
    "        print('finish for rho={}, n={}'.format(rho, n))"
   ]
  },
  {
   "cell_type": "code",
   "execution_count": 39,
   "metadata": {},
   "outputs": [
    {
     "data": {
      "text/plain": [
       "array([[0.05 , 0.058, 0.042, 0.042, 0.056, 0.056, 0.054, 0.054, 0.04 ,\n",
       "        0.06 ],\n",
       "       [0.098, 0.232, 0.566, 0.78 , 0.932, 0.988, 0.998, 0.998, 1.   ,\n",
       "        1.   ],\n",
       "       [0.106, 0.268, 0.534, 0.76 , 0.92 , 0.988, 0.998, 1.   , 1.   ,\n",
       "        1.   ]])"
      ]
     },
     "execution_count": 39,
     "metadata": {},
     "output_type": "execute_result"
    }
   ],
   "source": [
    "power_er"
   ]
  },
  {
   "cell_type": "code",
   "execution_count": 40,
   "metadata": {},
   "outputs": [
    {
     "name": "stdout",
     "output_type": "stream",
     "text": [
      "finish for rho=0.0, n=10\n",
      "finish for rho=0.0, n=20\n",
      "finish for rho=0.0, n=30\n",
      "finish for rho=0.0, n=40\n",
      "finish for rho=0.0, n=50\n",
      "finish for rho=0.0, n=60\n",
      "finish for rho=0.0, n=70\n",
      "finish for rho=0.0, n=80\n",
      "finish for rho=0.0, n=90\n",
      "finish for rho=0.0, n=100\n",
      "finish for rho=0.1, n=10\n",
      "finish for rho=0.1, n=20\n",
      "finish for rho=0.1, n=30\n",
      "finish for rho=0.1, n=40\n",
      "finish for rho=0.1, n=50\n",
      "finish for rho=0.1, n=60\n",
      "finish for rho=0.1, n=70\n",
      "finish for rho=0.1, n=80\n",
      "finish for rho=0.1, n=90\n",
      "finish for rho=0.1, n=100\n",
      "finish for rho=-0.1, n=10\n",
      "finish for rho=-0.1, n=20\n",
      "finish for rho=-0.1, n=30\n",
      "finish for rho=-0.1, n=40\n",
      "finish for rho=-0.1, n=50\n",
      "finish for rho=-0.1, n=60\n",
      "finish for rho=-0.1, n=70\n",
      "finish for rho=-0.1, n=80\n",
      "finish for rho=-0.1, n=90\n",
      "finish for rho=-0.1, n=100\n",
      "CPU times: user 2min 28s, sys: 1.09 s, total: 2min 29s\n",
      "Wall time: 2min 30s\n"
     ]
    }
   ],
   "source": [
    "%%time\n",
    "n_arr = np.linspace(10, 100, 10, dtype=int)\n",
    "rho_arr = np.array([0, 0.1, -0.1])\n",
    "p = 0.7\n",
    "q = 0.2\n",
    "nmc = 500\n",
    "k = 1\n",
    "power_er_marg = np.zeros((rho_arr.shape[0], n_arr.shape[0]))\n",
    "\n",
    "for i, rho in enumerate(rho_arr):\n",
    "    for j, n in enumerate(n_arr):\n",
    "        blocks = np.repeat(np.arange(k), n//k)\n",
    "        test_power = dcorr_ttest_power(rho_ER_marg, given_blocks=True, blocks=blocks,\n",
    "                                           rho=rho, p=p, q=q, n=n, mc=nmc)\n",
    "        power_er_marg[i, j] = test_power\n",
    "        print('finish for rho={}, n={}'.format(rho, n))"
   ]
  },
  {
   "cell_type": "code",
   "execution_count": 41,
   "metadata": {},
   "outputs": [
    {
     "data": {
      "text/plain": [
       "array([[0.064, 0.056, 0.038, 0.05 , 0.072, 0.054, 0.04 , 0.062, 0.048,\n",
       "        0.044],\n",
       "       [0.106, 0.236, 0.464, 0.808, 0.958, 0.99 , 0.998, 1.   , 1.   ,\n",
       "        1.   ],\n",
       "       [0.13 , 0.252, 0.518, 0.79 , 0.904, 0.98 , 0.998, 1.   , 1.   ,\n",
       "        1.   ]])"
      ]
     },
     "execution_count": 41,
     "metadata": {},
     "output_type": "execute_result"
    }
   ],
   "source": [
    "power_er_marg"
   ]
  },
  {
   "cell_type": "code",
   "execution_count": 44,
   "metadata": {},
   "outputs": [],
   "source": [
    "with open('../../results/rho_er_power_ttest.pkl', 'wb') as f:\n",
    "    pickle.dump(power_er, f)\n",
    "with open('../../results/rho_er_marg_power_ttest.pkl', 'wb') as f:\n",
    "    pickle.dump(power_er_marg, f)\n",
    "with open('../../results/rho_sbm_power_ttest.pkl', 'wb') as f:\n",
    "    pickle.dump(power_sbm, f)\n",
    "with open('../../results/rho_sbm_marg_power_ttest.pkl', 'wb') as f:\n",
    "    pickle.dump(power_sbm_marg, f)    "
   ]
  }
 ],
 "metadata": {
  "kernelspec": {
   "display_name": "Python 3",
   "language": "python",
   "name": "python3"
  },
  "language_info": {
   "codemirror_mode": {
    "name": "ipython",
    "version": 3
   },
   "file_extension": ".py",
   "mimetype": "text/x-python",
   "name": "python",
   "nbconvert_exporter": "python",
   "pygments_lexer": "ipython3",
   "version": "3.7.2"
  }
 },
 "nbformat": 4,
 "nbformat_minor": 2
}
