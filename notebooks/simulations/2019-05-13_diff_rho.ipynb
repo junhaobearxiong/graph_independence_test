{
 "cells": [
  {
   "cell_type": "code",
   "execution_count": 54,
   "metadata": {},
   "outputs": [],
   "source": [
    "%matplotlib inline\n",
    "import numpy as np\n",
    "import matplotlib as mpl\n",
    "import matplotlib.pyplot as plt\n",
    "import math\n",
    "import pickle\n",
    "import pandas as pd\n",
    "from tqdm import tqdm\n",
    "import seaborn as sns\n",
    "\n",
    "from graspy.plot import heatmap\n",
    "from graspy.utils import symmetrize\n",
    "from graspy.simulations import sbm\n",
    "\n",
    "from mgcpy.independence_tests.dcorr import DCorr\n",
    "from mgcpy.independence_tests.rv_corr import RVCorr\n",
    "from mgcpy.independence_tests.mgc import MGC\n",
    "\n",
    "from simulations import rho_ER_marg, rho_sbm_marg, rho_sbm_diff_block\n",
    "from utils import triu_no_diag, to_distance_mtx, identity, sbm_params, dcorr_power_two_sided, pearson_power_two_sided"
   ]
  },
  {
   "cell_type": "code",
   "execution_count": 69,
   "metadata": {},
   "outputs": [],
   "source": [
    "def sample_rho_matrix(AL, BL, seed=0):\n",
    "    np.random.seed(seed)\n",
    "    if np.any(AL == 0) or np.any(AL == 1) \\\n",
    "            or np.any(BL == 0) or np.any(BL == 1):\n",
    "        raise ValueError('block probabilities AL and BL cannot have 0 or 1')\n",
    "\n",
    "    max_rho = np.minimum(np.sqrt(AL*(1-BL)/((1-AL)*BL)), np.sqrt((1-AL)*BL/(AL*(1-BL))))\n",
    "    min_rho = np.maximum(-np.sqrt(AL*BL/((1-AL)*(1-BL))), -np.sqrt(((1-AL)*(1-BL))/(AL*BL)))\n",
    "    rho_range = np.arange(np.around(np.amax(min_rho), decimals=1) + 0.1, np.amin(max_rho), step=0.1)\n",
    "    rho_matrix = np.random.choice(rho_range, size=AL.shape, replace=False)\n",
    "    return rho_matrix"
   ]
  },
  {
   "cell_type": "code",
   "execution_count": 68,
   "metadata": {},
   "outputs": [],
   "source": [
    "def rho_sbm_diff_rho(rho_matrix, k, AL, BL, n=100, seed=None):\n",
    "    AL = symmetrize(AL)\n",
    "    BL = symmetrize(BL)\n",
    "    A = sbm([int(n/k)]*k, AL, loops=True)\n",
    "    AL = np.repeat(np.repeat(AL, n//k, 0), n//k, 1)\n",
    "    BL = np.repeat(np.repeat(BL, n//k, 0), n//k, 1)\n",
    "    rho = np.repeat(np.repeat(rho_matrix, n//k, 0), n//k, 1)\n",
    "    prob = BL + A*rho*np.sqrt((1-AL)*BL*(1-BL)/AL) - (1-A)*rho*np.sqrt(AL*BL*(1-BL)/(1-AL))\n",
    "    B = np.random.binomial(1, prob)\n",
    "    B = B.astype(np.float64)\n",
    "    B = symmetrize(B)\n",
    "    return A, B"
   ]
  },
  {
   "cell_type": "code",
   "execution_count": 63,
   "metadata": {},
   "outputs": [],
   "source": [
    "AL = sbm_params(a=0.7, b=0.3)\n",
    "BL = sbm_params(a=0.2, b=0.5)"
   ]
  },
  {
   "cell_type": "code",
   "execution_count": 70,
   "metadata": {},
   "outputs": [],
   "source": [
    "rho_matrix = sample_rho_matrix(AL, BL)\n",
    "A, B = rho_sbm_diff_rho(rho_matrix, 2, AL, BL, seed=0)"
   ]
  },
  {
   "cell_type": "code",
   "execution_count": 71,
   "metadata": {},
   "outputs": [
    {
     "data": {
      "text/plain": [
       "array([[-0.4,  0.2],\n",
       "       [-0.2,  0.3]])"
      ]
     },
     "execution_count": 71,
     "metadata": {},
     "output_type": "execute_result"
    }
   ],
   "source": [
    "rho_matrix"
   ]
  },
  {
   "cell_type": "code",
   "execution_count": 75,
   "metadata": {},
   "outputs": [
    {
     "name": "stdout",
     "output_type": "stream",
     "text": [
      "[[0.3 0.8]\n",
      " [0.1 0.7]]\n",
      "finish pearson for n=10\n",
      "finish pearson for n=20\n",
      "finish pearson for n=30\n",
      "finish pearson for n=40\n",
      "finish pearson for n=50\n",
      "finish pearson for n=60\n",
      "finish pearson for n=70\n",
      "finish pearson for n=80\n",
      "finish pearson for n=90\n",
      "finish pearson for n=100\n",
      "finish dcorr for n=10\n",
      "finish dcorr for n=20\n",
      "finish dcorr for n=30\n",
      "finish dcorr for n=40\n",
      "finish dcorr for n=50\n",
      "finish dcorr for n=60\n",
      "finish dcorr for n=70\n",
      "finish dcorr for n=80\n",
      "finish dcorr for n=90\n",
      "finish dcorr for n=100\n",
      "finish mgc for n=10\n",
      "finish mgc for n=20\n",
      "finish mgc for n=30\n",
      "finish mgc for n=40\n",
      "finish mgc for n=50\n",
      "finish mgc for n=60\n",
      "finish mgc for n=70\n",
      "finish mgc for n=80\n",
      "finish mgc for n=90\n",
      "finish mgc for n=100\n",
      "CPU times: user 4min 48s, sys: 1.77 s, total: 4min 50s\n",
      "Wall time: 4min 51s\n"
     ]
    }
   ],
   "source": [
    "%%time\n",
    "n_arr = np.linspace(10, 100, 10, dtype=int)\n",
    "k = 2\n",
    "P1 = sbm_params(a=0.7, b=0.3)\n",
    "P2 = sbm_params(a=0.7, b=0.3)\n",
    "rho_matrix = sample_rho_matrix(P1, P2)\n",
    "print(rho_matrix)\n",
    "nmc = 500\n",
    "test_names = ['pearson', 'dcorr', 'mgc']\n",
    "power_sbm = {\n",
    "    'pearson': np.zeros_like(n_arr, dtype=float),\n",
    "    'dcorr': np.zeros_like(n_arr, dtype=float),\n",
    "    'mgc': np.zeros_like(n_arr, float)\n",
    "}\n",
    "\n",
    "for name in test_names:\n",
    "        for i, n in enumerate(n_arr):\n",
    "            blocks = np.repeat(np.arange(k), n//k)\n",
    "            if name == 'pearson':\n",
    "                test = RVCorr(which_test='pearson')\n",
    "                test_power = pearson_power_two_sided(test, rho_sbm_diff_rho, given_blocks=True, blocks=blocks,\n",
    "                                           rho_matrix=rho_matrix, AL=P1, BL=P2, k=k, n=n, mc=nmc)\n",
    "            elif name == 'dcorr':\n",
    "                test = DCorr(compute_distance_matrix=identity)\n",
    "                test_power = dcorr_power_two_sided(test, rho_sbm_diff_rho, given_blocks=True, blocks=blocks,\n",
    "                                         rho_matrix=rho_matrix, AL=P1, BL=P2, k=k, n=n, mc=nmc)\n",
    "            elif name == 'mgc':\n",
    "                test = MGC(compute_distance_matrix=identity)\n",
    "                test_power = dcorr_power_two_sided(test, rho_sbm_diff_rho, given_blocks=True, blocks=blocks,\n",
    "                                         rho_matrix=rho_matrix, AL=P1, BL=P2, k=k, n=n, mc=nmc)\n",
    "            power_sbm[name][i] = test_power\n",
    "            print('finish {} for n={}'.format(name, n))"
   ]
  },
  {
   "cell_type": "code",
   "execution_count": 76,
   "metadata": {},
   "outputs": [
    {
     "data": {
      "text/plain": [
       "{'pearson': array([0.956, 1.   , 1.   , 1.   , 1.   , 1.   , 1.   , 1.   , 1.   ,\n",
       "        1.   ]),\n",
       " 'dcorr': array([0.938, 1.   , 1.   , 1.   , 1.   , 1.   , 1.   , 1.   , 1.   ,\n",
       "        1.   ]),\n",
       " 'mgc': array([0.966, 1.   , 1.   , 1.   , 1.   , 1.   , 1.   , 1.   , 1.   ,\n",
       "        1.   ])}"
      ]
     },
     "execution_count": 76,
     "metadata": {},
     "output_type": "execute_result"
    }
   ],
   "source": [
    "power_sbm"
   ]
  },
  {
   "cell_type": "code",
   "execution_count": 77,
   "metadata": {},
   "outputs": [
    {
     "name": "stdout",
     "output_type": "stream",
     "text": [
      "[[-0.4  0.2]\n",
      " [-0.2  0.3]]\n",
      "finish pearson for n=10\n",
      "finish pearson for n=20\n",
      "finish pearson for n=30\n",
      "finish pearson for n=40\n",
      "finish pearson for n=50\n",
      "finish pearson for n=60\n",
      "finish pearson for n=70\n",
      "finish pearson for n=80\n",
      "finish pearson for n=90\n",
      "finish pearson for n=100\n",
      "finish dcorr for n=10\n",
      "finish dcorr for n=20\n",
      "finish dcorr for n=30\n",
      "finish dcorr for n=40\n",
      "finish dcorr for n=50\n",
      "finish dcorr for n=60\n",
      "finish dcorr for n=70\n",
      "finish dcorr for n=80\n",
      "finish dcorr for n=90\n",
      "finish dcorr for n=100\n",
      "finish mgc for n=10\n",
      "finish mgc for n=20\n",
      "finish mgc for n=30\n",
      "finish mgc for n=40\n",
      "finish mgc for n=50\n",
      "finish mgc for n=60\n",
      "finish mgc for n=70\n",
      "finish mgc for n=80\n",
      "finish mgc for n=90\n",
      "finish mgc for n=100\n",
      "CPU times: user 4min 47s, sys: 1.77 s, total: 4min 49s\n",
      "Wall time: 4min 50s\n"
     ]
    }
   ],
   "source": [
    "%%time\n",
    "n_arr = np.linspace(10, 100, 10, dtype=int)\n",
    "k = 2\n",
    "P1 = sbm_params(a=0.7, b=0.3)\n",
    "P2 = sbm_params(a=0.2, b=0.5)\n",
    "rho_matrix = sample_rho_matrix(P1, P2)\n",
    "print(rho_matrix)\n",
    "nmc = 500\n",
    "test_names = ['pearson', 'dcorr', 'mgc']\n",
    "power_sbm_marg = {\n",
    "    'pearson': np.zeros_like(n_arr, dtype=float),\n",
    "    'dcorr': np.zeros_like(n_arr, dtype=float),\n",
    "    'mgc': np.zeros_like(n_arr, float)\n",
    "}\n",
    "\n",
    "for name in test_names:\n",
    "        for i, n in enumerate(n_arr):\n",
    "            blocks = np.repeat(np.arange(k), n//k)\n",
    "            if name == 'pearson':\n",
    "                test = RVCorr(which_test='pearson')\n",
    "                test_power = pearson_power_two_sided(test, rho_sbm_diff_rho, given_blocks=True, blocks=blocks,\n",
    "                                           rho_matrix=rho_matrix, AL=P1, BL=P2, k=k, n=n, mc=nmc)\n",
    "            elif name == 'dcorr':\n",
    "                test = DCorr(compute_distance_matrix=identity)\n",
    "                test_power = dcorr_power_two_sided(test, rho_sbm_diff_rho, given_blocks=True, blocks=blocks,\n",
    "                                         rho_matrix=rho_matrix, AL=P1, BL=P2, k=k, n=n, mc=nmc)\n",
    "            elif name == 'mgc':\n",
    "                test = MGC(compute_distance_matrix=identity)\n",
    "                test_power = dcorr_power_two_sided(test, rho_sbm_diff_rho, given_blocks=True, blocks=blocks,\n",
    "                                         rho_matrix=rho_matrix, AL=P1, BL=P2, k=k, n=n, mc=nmc)\n",
    "            power_sbm_marg[name][i] = test_power\n",
    "            print('finish {} for n={}'.format(name, n))"
   ]
  },
  {
   "cell_type": "code",
   "execution_count": 78,
   "metadata": {},
   "outputs": [
    {
     "data": {
      "text/plain": [
       "{'pearson': array([0.088, 0.182, 0.444, 0.614, 0.832, 0.9  , 0.964, 0.99 , 0.996,\n",
       "        1.   ]),\n",
       " 'dcorr': array([0.07 , 0.162, 0.472, 0.592, 0.79 , 0.864, 0.97 , 0.994, 0.998,\n",
       "        1.   ]),\n",
       " 'mgc': array([0.114, 0.24 , 0.322, 0.606, 0.712, 0.926, 0.966, 0.996, 0.998,\n",
       "        1.   ])}"
      ]
     },
     "execution_count": 78,
     "metadata": {},
     "output_type": "execute_result"
    }
   ],
   "source": [
    "power_sbm_marg"
   ]
  },
  {
   "cell_type": "code",
   "execution_count": 81,
   "metadata": {},
   "outputs": [
    {
     "name": "stdout",
     "output_type": "stream",
     "text": [
      "[[ 0.   0.1]\n",
      " [ 0.  -0.1]]\n",
      "finish pearson for n=10\n",
      "finish pearson for n=50\n",
      "finish pearson for n=100\n",
      "finish pearson for n=300\n",
      "finish pearson for n=500\n",
      "finish dcorr for n=10\n",
      "finish dcorr for n=50\n",
      "finish dcorr for n=100\n",
      "finish dcorr for n=300\n",
      "finish dcorr for n=500\n",
      "finish mgc for n=10\n",
      "finish mgc for n=50\n",
      "finish mgc for n=100\n",
      "finish mgc for n=300\n",
      "finish mgc for n=500\n",
      "CPU times: user 22min 52s, sys: 24.4 s, total: 23min 16s\n",
      "Wall time: 22min 38s\n"
     ]
    }
   ],
   "source": [
    "%%time\n",
    "n_arr = np.array([10, 50, 100, 300, 500])\n",
    "k = 2\n",
    "P1 = sbm_params(a=0.7, b=0.3)\n",
    "P2 = sbm_params(a=0.7, b=0.3)\n",
    "rho_matrix = np.array([[0, 0.1], [0, -0.1]])\n",
    "print(rho_matrix)\n",
    "nmc = 500\n",
    "test_names = ['pearson', 'dcorr', 'mgc']\n",
    "power_sbm1 = {\n",
    "    'pearson': np.zeros_like(n_arr, dtype=float),\n",
    "    'dcorr': np.zeros_like(n_arr, dtype=float),\n",
    "    'mgc': np.zeros_like(n_arr, float)\n",
    "}\n",
    "\n",
    "for name in test_names:\n",
    "    for i, n in enumerate(n_arr):\n",
    "        blocks = np.repeat(np.arange(k), n//k)\n",
    "        if name == 'pearson':\n",
    "            test = RVCorr(which_test='pearson')\n",
    "            test_power = pearson_power_two_sided(test, rho_sbm_diff_rho, given_blocks=True, blocks=blocks,\n",
    "                                       rho_matrix=rho_matrix, AL=P1, BL=P2, k=k, n=n, mc=nmc)\n",
    "        elif name == 'dcorr':\n",
    "            test = DCorr(compute_distance_matrix=identity)\n",
    "            test_power = dcorr_power_two_sided(test, rho_sbm_diff_rho, given_blocks=True, blocks=blocks,\n",
    "                                     rho_matrix=rho_matrix, AL=P1, BL=P2, k=k, n=n, mc=nmc)\n",
    "        elif name == 'mgc':\n",
    "            test = MGC(compute_distance_matrix=identity)\n",
    "            test_power = dcorr_power_two_sided(test, rho_sbm_diff_rho, given_blocks=True, blocks=blocks,\n",
    "                                     rho_matrix=rho_matrix, AL=P1, BL=P2, k=k, n=n, mc=nmc)\n",
    "        power_sbm1[name][i] = test_power\n",
    "        print('finish {} for n={}'.format(name, n))"
   ]
  },
  {
   "cell_type": "code",
   "execution_count": 82,
   "metadata": {},
   "outputs": [
    {
     "data": {
      "text/plain": [
       "{'pearson': array([0.056, 0.104, 0.306, 0.998, 1.   ]),\n",
       " 'dcorr': array([0.072, 0.1  , 0.342, 0.996, 1.   ]),\n",
       " 'mgc': array([0.052, 0.084, 0.424, 0.998, 1.   ])}"
      ]
     },
     "execution_count": 82,
     "metadata": {},
     "output_type": "execute_result"
    }
   ],
   "source": [
    "power_sbm1"
   ]
  }
 ],
 "metadata": {
  "kernelspec": {
   "display_name": "Python 3",
   "language": "python",
   "name": "python3"
  },
  "language_info": {
   "codemirror_mode": {
    "name": "ipython",
    "version": 3
   },
   "file_extension": ".py",
   "mimetype": "text/x-python",
   "name": "python",
   "nbconvert_exporter": "python",
   "pygments_lexer": "ipython3",
   "version": "3.7.2"
  }
 },
 "nbformat": 4,
 "nbformat_minor": 2
}
