{
 "cells": [
  {
   "cell_type": "code",
   "execution_count": 3,
   "metadata": {},
   "outputs": [],
   "source": [
    "%matplotlib inline\n",
    "import numpy as np\n",
    "import matplotlib as mpl\n",
    "import matplotlib.pyplot as plt\n",
    "import math\n",
    "import pickle\n",
    "import pandas as pd\n",
    "from tqdm import tqdm\n",
    "\n",
    "from graspy.plot import heatmap\n",
    "\n",
    "from mgcpy.independence_tests.dcorr import DCorr\n",
    "from mgcpy.independence_tests.rv_corr import RVCorr\n",
    "from mgcpy.independence_tests.mgc import MGC\n",
    "\n",
    "from simulations import rho_ER_marg, rho_sbm_marg, rho_sbm_diff_block\n",
    "from utils import sbm_params, dcorr_power, pearson_power, identity"
   ]
  },
  {
   "cell_type": "code",
   "execution_count": 5,
   "metadata": {},
   "outputs": [
    {
     "name": "stdout",
     "output_type": "stream",
     "text": [
      "finish for rho=0.1, n=10\n",
      "finish for rho=0.1, n=50\n",
      "finish for rho=0.1, n=100\n",
      "finish for rho=0.1, n=200\n",
      "finish for rho=0.1, n=300\n"
     ]
    },
    {
     "ename": "KeyboardInterrupt",
     "evalue": "",
     "output_type": "error",
     "traceback": [
      "\u001b[0;31m---------------------------------------------------------------------------\u001b[0m",
      "\u001b[0;31mKeyboardInterrupt\u001b[0m                         Traceback (most recent call last)",
      "\u001b[0;32m<timed exec>\u001b[0m in \u001b[0;36m<module>\u001b[0;34m\u001b[0m\n",
      "\u001b[0;32m~/Documents/Projects/graph_independence_test/utils.py\u001b[0m in \u001b[0;36mdcorr_power\u001b[0;34m(indept_test, sim_func, mc, alpha, given_blocks, blocks, **kwargs)\u001b[0m\n\u001b[1;32m     30\u001b[0m         test_stat_alt, _ = indept_test.test_statistic(\n\u001b[1;32m     31\u001b[0m             \u001b[0mmatrix_X\u001b[0m\u001b[0;34m=\u001b[0m\u001b[0mto_distance_mtx\u001b[0m\u001b[0;34m(\u001b[0m\u001b[0mto_kernel\u001b[0m\u001b[0;34m(\u001b[0m\u001b[0mA\u001b[0m\u001b[0;34m)\u001b[0m\u001b[0;34m)\u001b[0m\u001b[0;34m,\u001b[0m\u001b[0;34m\u001b[0m\u001b[0;34m\u001b[0m\u001b[0m\n\u001b[0;32m---> 32\u001b[0;31m             matrix_Y=to_distance_mtx(to_kernel(B)))\n\u001b[0m\u001b[1;32m     33\u001b[0m         test_stat_null, _ = indept_test.test_statistic(\n\u001b[1;32m     34\u001b[0m             \u001b[0mmatrix_X\u001b[0m\u001b[0;34m=\u001b[0m\u001b[0mto_distance_mtx\u001b[0m\u001b[0;34m(\u001b[0m\u001b[0mto_kernel\u001b[0m\u001b[0;34m(\u001b[0m\u001b[0mA_null\u001b[0m\u001b[0;34m)\u001b[0m\u001b[0;34m)\u001b[0m\u001b[0;34m,\u001b[0m\u001b[0;34m\u001b[0m\u001b[0;34m\u001b[0m\u001b[0m\n",
      "\u001b[0;32m~/Documents/Projects/graph_independence_test/env/lib/python3.7/site-packages/mgcpy/independence_tests/mgc.py\u001b[0m in \u001b[0;36mtest_statistic\u001b[0;34m(self, matrix_X, matrix_Y, is_fast, fast_mgc_data)\u001b[0m\n\u001b[1;32m     88\u001b[0m             \u001b[0mdistance_matrix_X\u001b[0m\u001b[0;34m,\u001b[0m \u001b[0mdistance_matrix_Y\u001b[0m \u001b[0;34m=\u001b[0m \u001b[0mcompute_distance\u001b[0m\u001b[0;34m(\u001b[0m\u001b[0mmatrix_X\u001b[0m\u001b[0;34m,\u001b[0m \u001b[0mmatrix_Y\u001b[0m\u001b[0;34m,\u001b[0m \u001b[0mself\u001b[0m\u001b[0;34m.\u001b[0m\u001b[0mcompute_distance_matrix\u001b[0m\u001b[0;34m)\u001b[0m\u001b[0;34m\u001b[0m\u001b[0;34m\u001b[0m\u001b[0m\n\u001b[1;32m     89\u001b[0m             local_correlation_matrix = local_correlations(distance_matrix_X, distance_matrix_Y,\n\u001b[0;32m---> 90\u001b[0;31m                                                           base_global_correlation=self.base_global_correlation)[\"local_correlation_matrix\"]\n\u001b[0m\u001b[1;32m     91\u001b[0m             \u001b[0mm\u001b[0m\u001b[0;34m,\u001b[0m \u001b[0mn\u001b[0m \u001b[0;34m=\u001b[0m \u001b[0mlocal_correlation_matrix\u001b[0m\u001b[0;34m.\u001b[0m\u001b[0mshape\u001b[0m\u001b[0;34m\u001b[0m\u001b[0;34m\u001b[0m\u001b[0m\n\u001b[1;32m     92\u001b[0m             \u001b[0;32mif\u001b[0m \u001b[0mm\u001b[0m \u001b[0;34m==\u001b[0m \u001b[0;36m1\u001b[0m \u001b[0;32mor\u001b[0m \u001b[0mn\u001b[0m \u001b[0;34m==\u001b[0m \u001b[0;36m1\u001b[0m\u001b[0;34m:\u001b[0m\u001b[0;34m\u001b[0m\u001b[0;34m\u001b[0m\u001b[0m\n",
      "\u001b[0;32mmgcpy/independence_tests/mgc_utils/local_correlation.pyx\u001b[0m in \u001b[0;36mmgcpy.independence_tests.mgc_utils.local_correlation.local_correlations\u001b[0;34m()\u001b[0m\n",
      "\u001b[0;32mmgcpy/independence_tests/mgc_utils/local_correlation.pyx\u001b[0m in \u001b[0;36mmgcpy.independence_tests.mgc_utils.local_correlation.local_correlations\u001b[0;34m()\u001b[0m\n",
      "\u001b[0;32mmgcpy/independence_tests/mgc_utils/local_correlation.pyx\u001b[0m in \u001b[0;36mmgcpy.independence_tests.mgc_utils.local_correlation.local_covariance\u001b[0;34m()\u001b[0m\n",
      "\u001b[0;32m~/Documents/Projects/graph_independence_test/env/lib/python3.7/site-packages/numpy/core/fromnumeric.py\u001b[0m in \u001b[0;36mcumsum\u001b[0;34m(a, axis, dtype, out)\u001b[0m\n\u001b[1;32m   2250\u001b[0m \u001b[0;34m\u001b[0m\u001b[0m\n\u001b[1;32m   2251\u001b[0m \u001b[0;34m\u001b[0m\u001b[0m\n\u001b[0;32m-> 2252\u001b[0;31m \u001b[0;34m@\u001b[0m\u001b[0marray_function_dispatch\u001b[0m\u001b[0;34m(\u001b[0m\u001b[0m_cumsum_dispatcher\u001b[0m\u001b[0;34m)\u001b[0m\u001b[0;34m\u001b[0m\u001b[0;34m\u001b[0m\u001b[0m\n\u001b[0m\u001b[1;32m   2253\u001b[0m \u001b[0;32mdef\u001b[0m \u001b[0mcumsum\u001b[0m\u001b[0;34m(\u001b[0m\u001b[0ma\u001b[0m\u001b[0;34m,\u001b[0m \u001b[0maxis\u001b[0m\u001b[0;34m=\u001b[0m\u001b[0;32mNone\u001b[0m\u001b[0;34m,\u001b[0m \u001b[0mdtype\u001b[0m\u001b[0;34m=\u001b[0m\u001b[0;32mNone\u001b[0m\u001b[0;34m,\u001b[0m \u001b[0mout\u001b[0m\u001b[0;34m=\u001b[0m\u001b[0;32mNone\u001b[0m\u001b[0;34m)\u001b[0m\u001b[0;34m:\u001b[0m\u001b[0;34m\u001b[0m\u001b[0;34m\u001b[0m\u001b[0m\n\u001b[1;32m   2254\u001b[0m     \"\"\"\n",
      "\u001b[0;31mKeyboardInterrupt\u001b[0m: "
     ]
    }
   ],
   "source": [
    "%%time\n",
    "n_arr = np.array([10, 50, 100, 200, 300, 400, 500]) #np.linspace(10, 100, 10, dtype=int)\n",
    "rho_arr = np.linspace(0.1, 0.9, 9, dtype=float)\n",
    "p = 0.5\n",
    "q = 0.5\n",
    "nmc = 500\n",
    "k = 1\n",
    "power_er = np.zeros((rho_arr.shape[0], n_arr.shape[0]))\n",
    "\n",
    "for i, rho in enumerate(rho_arr):\n",
    "    for j, n in enumerate(n_arr):\n",
    "        blocks = np.repeat(np.arange(k), n//k)\n",
    "        test = MGC(compute_distance_matrix=identity)\n",
    "        test_power = dcorr_power(test, rho_ER_marg, given_blocks=True, blocks=blocks,\n",
    "                                   rho=rho, p=p, q=q, n=n, mc=nmc)\n",
    "        power_er[i, j] = test_power\n",
    "        print('finish for rho={}, n={}'.format(rho, n))"
   ]
  }
 ],
 "metadata": {
  "kernelspec": {
   "display_name": "Python 3",
   "language": "python",
   "name": "python3"
  },
  "language_info": {
   "codemirror_mode": {
    "name": "ipython",
    "version": 3
   },
   "file_extension": ".py",
   "mimetype": "text/x-python",
   "name": "python",
   "nbconvert_exporter": "python",
   "pygments_lexer": "ipython3",
   "version": "3.7.2"
  }
 },
 "nbformat": 4,
 "nbformat_minor": 2
}
