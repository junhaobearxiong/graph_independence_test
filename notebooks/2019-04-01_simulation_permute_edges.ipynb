{
 "cells": [
  {
   "cell_type": "code",
   "execution_count": 69,
   "metadata": {},
   "outputs": [],
   "source": [
    "%matplotlib inline\n",
    "import numpy as np\n",
    "import matplotlib as mpl\n",
    "import matplotlib.pyplot as plt\n",
    "import math\n",
    "import pickle\n",
    "import pandas as pd\n",
    "from tqdm import tqdm\n",
    "\n",
    "from graspy.embed import JointRDPG\n",
    "from graspy.plot import heatmap\n",
    "from graspy.utils import is_symmetric, symmetrize\n",
    "from graspy.cluster import GaussianCluster, KMeansCluster\n",
    "from graspy.simulations import sbm\n",
    "\n",
    "from mgcpy.independence_tests.dcorr import DCorr\n",
    "from mgcpy.independence_tests.rv_corr import RVCorr\n",
    "from mgcpy.independence_tests.mgc.mgc import MGC\n",
    "\n",
    "from simulations import sbm_marg_corr_diff, ER_corr\n",
    "from utils import sbm_params, triu_no_diag, to_distance_mtx, identity, power, non_diagonal, \\\n",
    "    estimate_block_assignment"
   ]
  },
  {
   "cell_type": "code",
   "execution_count": 3,
   "metadata": {},
   "outputs": [
    {
     "data": {
      "text/plain": [
       "array([[1, 2, 3],\n",
       "       [4, 5, 6],\n",
       "       [7, 8, 9]])"
      ]
     },
     "execution_count": 3,
     "metadata": {},
     "output_type": "execute_result"
    }
   ],
   "source": [
    "A = np.arange(1, 10).reshape(3, 3)\n",
    "A"
   ]
  },
  {
   "cell_type": "code",
   "execution_count": 29,
   "metadata": {},
   "outputs": [],
   "source": [
    "def rho_sbm_diff_block(rho, k, AL, BL, n=100):\n",
    "    if sum(k) != n:\n",
    "        raise ValueError('the total number of vertices in each community should equal n')\n",
    "    \n",
    "    if np.any(AL == 0) or np.any(AL == 1) \\\n",
    "            or np.any(BL == 0) or np.any(BL == 1):\n",
    "        raise ValueError('block probabilities AL and BL cannot have 0 or 1')\n",
    "\n",
    "    largest_rho = np.minimum(np.sqrt(AL*(1-BL)/((1-AL)*BL)), np.sqrt((1-AL)*BL/(AL*(1-BL))))\n",
    "    if np.any(rho > largest_rho):\n",
    "        raise ValueError('the largest valid rho for the specified AL and BL is {}. Please specify a rho that is smaller than the largest valid rho.'.format(\n",
    "            np.amin(largest_rho)))\n",
    "\n",
    "    AL = symmetrize(AL)\n",
    "    BL = symmetrize(BL)\n",
    "    A = sbm(k, AL)\n",
    "\n",
    "    AL_new = np.zeros_like(A)\n",
    "    BL_new = np.zeros_like(A)\n",
    "    block_indices = np.insert(np.cumsum(np.array(k)), 0, 0)\n",
    "    for i in range(AL.shape[0]):\n",
    "        for j in range(AL.shape[1]):\n",
    "            AL_new[block_indices[i]:block_indices[i+1], block_indices[j]:block_indices[j+1]] = AL[i, j]\n",
    "            BL_new[block_indices[i]:block_indices[i+1], block_indices[j]:block_indices[j+1]] = BL[i, j]\n",
    "\n",
    "    prob = BL_new + A*rho*np.sqrt((1-AL_new)*BL_new*(1-BL_new)/AL_new) - (1-A)*rho*np.sqrt(AL_new*BL_new*(1-BL_new)/(1-AL_new))\n",
    "    B = np.random.binomial(1, prob)\n",
    "    B = B.astype(np.float64)\n",
    "    B = symmetrize(B)\n",
    "    np.fill_diagonal(B, 0)\n",
    "    return A, B"
   ]
  },
  {
   "cell_type": "code",
   "execution_count": 26,
   "metadata": {},
   "outputs": [],
   "source": [
    "def permute_off_diag(A):\n",
    "    return np.random.permutation(A.flatten()).reshape(A.shape)\n",
    "\n",
    "def permute_on_diag(A):\n",
    "    triu = np.random.permutation(triu_no_diag(A).flatten())\n",
    "    A_perm = np.zeros_like(A)\n",
    "    A_perm[np.triu_indices(A.shape[0], 1)] = triu\n",
    "    A_perm = symmetrize(A_perm)\n",
    "    return A_perm"
   ]
  },
  {
   "cell_type": "code",
   "execution_count": 78,
   "metadata": {},
   "outputs": [],
   "source": [
    "def block_permute(A, block_assignment):\n",
    "    permuted_A = np.zeros_like(A)\n",
    "    num_blocks = np.unique(block_assignment).size\n",
    "    # get the index of the blocks in the upper triangular\n",
    "    row_idx, col_idx = np.triu_indices(num_blocks)\n",
    "    for t in range(row_idx.size):\n",
    "        i = row_idx[t]\n",
    "        j = col_idx[t]\n",
    "        block_i_idx = np.where(block_assignment == i)[0]\n",
    "        block_j_idx = np.where(block_assignment == j)[0]\n",
    "        block = A[np.ix_(block_i_idx, block_j_idx)]\n",
    "        # permute only the upper triangular if the block is on the diagonal\n",
    "        if i == j:\n",
    "            permuted_block = permute_on_diag(block)\n",
    "        else:\n",
    "            permuted_block = permute_off_diag(block)\n",
    "        permuted_A[np.ix_(block_i_idx, block_j_idx)] = permuted_block\n",
    "    permuted_A = symmetrize(permuted_A)\n",
    "    return permuted_A"
   ]
  },
  {
   "cell_type": "code",
   "execution_count": 106,
   "metadata": {},
   "outputs": [],
   "source": [
    "A, B = rho_sbm_diff_block(0.3, k=[70, 30], AL=sbm_params(a=0.7, b=0.3), BL=sbm_params(a=0.7, b=0.3), n=100)"
   ]
  },
  {
   "cell_type": "code",
   "execution_count": 107,
   "metadata": {},
   "outputs": [],
   "source": [
    "block_assignment = estimate_block_assignment(A, B)"
   ]
  },
  {
   "cell_type": "code",
   "execution_count": 108,
   "metadata": {},
   "outputs": [
    {
     "data": {
      "text/plain": [
       "array([1, 1, 1, 1, 1, 1, 1, 1, 1, 1, 1, 1, 1, 1, 1, 1, 1, 1, 1, 1, 1, 1,\n",
       "       1, 1, 1, 1, 1, 1, 1, 1, 1, 1, 1, 1, 1, 1, 1, 1, 1, 1, 1, 1, 1, 1,\n",
       "       1, 1, 1, 1, 1, 1, 1, 1, 1, 1, 1, 1, 1, 1, 1, 1, 1, 1, 1, 1, 1, 1,\n",
       "       1, 1, 1, 1, 0, 0, 0, 0, 0, 0, 0, 0, 0, 0, 0, 0, 0, 0, 0, 0, 0, 0,\n",
       "       0, 0, 0, 0, 0, 0, 0, 0, 0, 0, 0, 0])"
      ]
     },
     "execution_count": 108,
     "metadata": {},
     "output_type": "execute_result"
    }
   ],
   "source": [
    "block_assignment"
   ]
  },
  {
   "cell_type": "code",
   "execution_count": 88,
   "metadata": {},
   "outputs": [],
   "source": [
    "def _sort_inds(inner_labels, outer_labels):\n",
    "    sort_df = pd.DataFrame(columns=(\"inner_labels\", \"outer_labels\"))\n",
    "    sort_df[\"inner_labels\"] = inner_labels\n",
    "    if outer_labels is not None:\n",
    "        sort_df[\"outer_labels\"] = outer_labels\n",
    "        sort_df.sort_values(\n",
    "            by=[\"outer_labels\", \"inner_labels\"], kind=\"mergesort\", inplace=True\n",
    "        )\n",
    "        outer_labels = sort_df[\"outer_labels\"]\n",
    "    inner_labels = sort_df[\"inner_labels\"]\n",
    "    sorted_inds = sort_df.index.values\n",
    "    return sorted_inds\n",
    "\n",
    "def sort_graph(graph, inner_labels):\n",
    "    inds = _sort_inds(inner_labels, np.ones_like(inner_labels))\n",
    "    graph = graph[inds, :][:, inds]\n",
    "    return graph"
   ]
  },
  {
   "cell_type": "code",
   "execution_count": 109,
   "metadata": {},
   "outputs": [],
   "source": [
    "A_sorted = sort_graph(A, block_assignment)"
   ]
  },
  {
   "cell_type": "code",
   "execution_count": 110,
   "metadata": {},
   "outputs": [
    {
     "data": {
      "text/plain": [
       "<matplotlib.axes._subplots.AxesSubplot at 0x11f408b38>"
      ]
     },
     "execution_count": 110,
     "metadata": {},
     "output_type": "execute_result"
    },
    {
     "data": {
      "image/png": "[encoded data removed]",
      "text/plain": [
       "<Figure size 576x432 with 2 Axes>"
      ]
     },
     "metadata": {
      "needs_background": "light"
     },
     "output_type": "display_data"
    }
   ],
   "source": [
    "heatmap(A, figsize=(8, 6))"
   ]
  },
  {
   "cell_type": "code",
   "execution_count": 111,
   "metadata": {},
   "outputs": [
    {
     "data": {
      "text/plain": [
       "<matplotlib.axes._subplots.AxesSubplot at 0x11f4167b8>"
      ]
     },
     "execution_count": 111,
     "metadata": {},
     "output_type": "execute_result"
    },
    {
     "data": {
      "image/png": "[encoded data removed]",
      "text/plain": [
       "<Figure size 576x432 with 2 Axes>"
      ]
     },
     "metadata": {
      "needs_background": "light"
     },
     "output_type": "display_data"
    }
   ],
   "source": [
    "heatmap(A_sorted, figsize=(8, 6))"
   ]
  },
  {
   "cell_type": "code",
   "execution_count": 112,
   "metadata": {},
   "outputs": [
    {
     "data": {
      "text/plain": [
       "<matplotlib.axes._subplots.AxesSubplot at 0x11f5ff438>"
      ]
     },
     "execution_count": 112,
     "metadata": {},
     "output_type": "execute_result"
    },
    {
     "data": {
      "image/png": "[encoded data removed]",
      "text/plain": [
       "<Figure size 576x432 with 2 Axes>"
      ]
     },
     "metadata": {
      "needs_background": "light"
     },
     "output_type": "display_data"
    }
   ],
   "source": [
    "heatmap(block_permute(A_sorted, np.sort(block_assignment)), figsize=(8, 6))"
   ]
  },
  {
   "cell_type": "code",
   "execution_count": 113,
   "metadata": {},
   "outputs": [],
   "source": [
    "def rho_sbm_power(indept_test, transform_func, rho, P1, P2, k, n, mc=500, alpha=0.05):\n",
    "    test_stat_null_array = np.zeros(mc)\n",
    "    test_stat_alt_array = np.zeros(mc)\n",
    "    for i in range(mc):\n",
    "        A, B = rho_sbm_diff_block(rho, k, P1, P2, n)\n",
    "        test_stat_alt, _ = indept_test.test_statistic(\n",
    "            matrix_X=transform_func(A), matrix_Y=transform_func(B))\n",
    "        test_stat_alt_array[i] = test_stat_alt\n",
    "\n",
    "        # generate the null by permutation\n",
    "        block_assignment = estimate_block_assignment(A, B)\n",
    "        A = sort_graph(A, block_assignment)\n",
    "        B = sort_graph(B, block_assignment)\n",
    "        A_null = block_permute(A, np.sort(block_assignment))\n",
    "        test_stat_null, _ = indept_test.test_statistic(\n",
    "            matrix_X=transform_func(A_null), matrix_Y=transform_func(B))\n",
    "        test_stat_null_array[i] = test_stat_null\n",
    "    # if pearson, use the absolute value of test statistic then use one-sided\n",
    "    # rejection region\n",
    "    if indept_test.get_name() == 'pearson':\n",
    "        test_stat_null_array = np.absolute(test_stat_null_array)\n",
    "        test_stat_alt_array = np.absolute(test_stat_alt_array)\n",
    "    critical_value = np.sort(test_stat_null_array)[math.ceil((1-alpha)*mc)]\n",
    "    power = np.where(test_stat_alt_array > critical_value)[0].shape[0] / mc\n",
    "    return power"
   ]
  },
  {
   "cell_type": "code",
   "execution_count": 115,
   "metadata": {},
   "outputs": [
    {
     "name": "stdout",
     "output_type": "stream",
     "text": [
      "finish pearson for rho=0.0, n=10\n",
      "finish pearson for rho=0.0, n=20\n",
      "finish pearson for rho=0.0, n=30\n",
      "finish pearson for rho=0.0, n=40\n",
      "finish pearson for rho=0.0, n=50\n",
      "finish pearson for rho=0.0, n=60\n",
      "finish pearson for rho=0.0, n=70\n",
      "finish pearson for rho=0.0, n=80\n",
      "finish pearson for rho=0.0, n=90\n",
      "finish pearson for rho=0.0, n=100\n",
      "finish pearson for rho=0.1, n=10\n",
      "finish pearson for rho=0.1, n=20\n",
      "finish pearson for rho=0.1, n=30\n",
      "finish pearson for rho=0.1, n=40\n",
      "finish pearson for rho=0.1, n=50\n",
      "finish pearson for rho=0.1, n=60\n",
      "finish pearson for rho=0.1, n=70\n",
      "finish pearson for rho=0.1, n=80\n",
      "finish pearson for rho=0.1, n=90\n",
      "finish pearson for rho=0.1, n=100\n",
      "finish dcorr for rho=0.0, n=10\n",
      "finish dcorr for rho=0.0, n=20\n",
      "finish dcorr for rho=0.0, n=30\n",
      "finish dcorr for rho=0.0, n=40\n",
      "finish dcorr for rho=0.0, n=50\n",
      "finish dcorr for rho=0.0, n=60\n",
      "finish dcorr for rho=0.0, n=70\n",
      "finish dcorr for rho=0.0, n=80\n",
      "finish dcorr for rho=0.0, n=90\n",
      "finish dcorr for rho=0.0, n=100\n",
      "finish dcorr for rho=0.1, n=10\n",
      "finish dcorr for rho=0.1, n=20\n",
      "finish dcorr for rho=0.1, n=30\n",
      "finish dcorr for rho=0.1, n=40\n",
      "finish dcorr for rho=0.1, n=50\n",
      "finish dcorr for rho=0.1, n=60\n",
      "finish dcorr for rho=0.1, n=70\n",
      "finish dcorr for rho=0.1, n=80\n",
      "finish dcorr for rho=0.1, n=90\n",
      "finish dcorr for rho=0.1, n=100\n",
      "CPU times: user 15min 10s, sys: 1min 7s, total: 16min 17s\n",
      "Wall time: 8min 27s\n"
     ]
    }
   ],
   "source": [
    "%%time\n",
    "n_arr = np.linspace(10, 100, 10, dtype=int)\n",
    "rho_arr = np.array([0, 0.1])\n",
    "P1 = sbm_params(a=0.7, b=0.3)\n",
    "P2 = sbm_params(a=0.2, b=0.5)\n",
    "test_names = ['pearson', 'dcorr'] #['pearson', 'dcorr', 'mgc']\n",
    "power_sbm = {\n",
    "    'pearson': np.zeros((rho_arr.shape[0], n_arr.shape[0])),\n",
    "    'dcorr': np.zeros((rho_arr.shape[0], n_arr.shape[0])),\n",
    "    'mgc': np.zeros((rho_arr.shape[0], n_arr.shape[0]))\n",
    "}\n",
    "\n",
    "for name in test_names:\n",
    "    for i, rho in enumerate(rho_arr):\n",
    "        for j, n in enumerate(n_arr):\n",
    "            k = [int(0.7*n), n-int(0.7*n)]\n",
    "            if name == 'pearson':\n",
    "                test = RVCorr(which_test='pearson')\n",
    "                test_power = rho_sbm_power(test, triu_no_diag, rho=rho, P1=P1, P2=P2, k=k, n=n)\n",
    "            elif name == 'dcorr':\n",
    "                test = DCorr(compute_distance_matrix=identity)\n",
    "                test_power = rho_sbm_power(test, to_distance_mtx, rho=rho, P1=P1, P2=P2, k=k, n=n)\n",
    "            elif name == 'mgc':\n",
    "                test = MGC(compute_distance_matrix=identity)\n",
    "                test_power = rho_sbm_power(test, to_distance_mtx, rho=rho, P1=P1, P2=P2, k=k, n=n)\n",
    "            power_sbm[name][i, j] = test_power\n",
    "            print('finish {} for rho={}, n={}'.format(name, rho, n))"
   ]
  },
  {
   "cell_type": "code",
   "execution_count": 116,
   "metadata": {},
   "outputs": [
    {
     "data": {
      "text/plain": [
       "{'pearson': array([[0.114, 0.212, 0.068, 0.076, 0.062, 0.044, 0.06 , 0.042, 0.05 ,\n",
       "         0.06 ],\n",
       "        [0.046, 0.032, 0.   , 0.   , 0.   , 0.   , 0.   , 0.   , 0.   ,\n",
       "         0.   ]]),\n",
       " 'dcorr': array([[0.006, 0.004, 0.   , 0.018, 0.062, 0.032, 0.032, 0.052, 0.042,\n",
       "         0.058],\n",
       "        [0.05 , 0.034, 0.104, 0.548, 0.94 , 0.988, 0.996, 1.   , 1.   ,\n",
       "         1.   ]]),\n",
       " 'mgc': array([[0., 0., 0., 0., 0., 0., 0., 0., 0., 0.],\n",
       "        [0., 0., 0., 0., 0., 0., 0., 0., 0., 0.]])}"
      ]
     },
     "execution_count": 116,
     "metadata": {},
     "output_type": "execute_result"
    }
   ],
   "source": [
    "power_sbm"
   ]
  },
  {
   "cell_type": "code",
   "execution_count": null,
   "metadata": {},
   "outputs": [],
   "source": []
  }
 ],
 "metadata": {
  "kernelspec": {
   "display_name": "Python 3",
   "language": "python",
   "name": "python3"
  },
  "language_info": {
   "codemirror_mode": {
    "name": "ipython",
    "version": 3
   },
   "file_extension": ".py",
   "mimetype": "text/x-python",
   "name": "python",
   "nbconvert_exporter": "python",
   "pygments_lexer": "ipython3",
   "version": "3.7.2"
  }
 },
 "nbformat": 4,
 "nbformat_minor": 2
}
