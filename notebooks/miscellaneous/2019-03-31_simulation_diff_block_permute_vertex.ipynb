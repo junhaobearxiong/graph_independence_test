{
 "cells": [
  {
   "cell_type": "code",
   "execution_count": 97,
   "metadata": {},
   "outputs": [],
   "source": [
    "%matplotlib inline\n",
    "import numpy as np\n",
    "import matplotlib as mpl\n",
    "import matplotlib.pyplot as plt\n",
    "import math\n",
    "import pickle\n",
    "from tqdm import tqdm\n",
    "\n",
    "from graspy.embed import JointRDPG\n",
    "from graspy.plot import heatmap\n",
    "from graspy.utils import is_symmetric, symmetrize\n",
    "from graspy.cluster import GaussianCluster, KMeansCluster\n",
    "from graspy.simulations import sbm\n",
    "\n",
    "from mgcpy.independence_tests.dcorr import DCorr\n",
    "from mgcpy.independence_tests.rv_corr import RVCorr\n",
    "from mgcpy.independence_tests.mgc.mgc import MGC\n",
    "\n",
    "from simulations import sbm_marg_corr_diff, ER_corr\n",
    "from utils import sbm_params, triu_no_diag, to_distance_mtx, identity, power, non_diagonal, \\\n",
    "    estimate_block_assignment, block_permute"
   ]
  },
  {
   "cell_type": "code",
   "execution_count": 47,
   "metadata": {},
   "outputs": [],
   "source": [
    "def rho_sbm_diff_block(rho, k, AL, BL, n=100):\n",
    "    if sum(k) != n:\n",
    "        raise ValueError('the total number of vertices in each community should equal n')\n",
    "    \n",
    "    if np.any(AL == 0) or np.any(AL == 1) \\\n",
    "            or np.any(BL == 0) or np.any(BL == 1):\n",
    "        raise ValueError('block probabilities AL and BL cannot have 0 or 1')\n",
    "\n",
    "    largest_rho = np.minimum(np.sqrt(AL*(1-BL)/((1-AL)*BL)), np.sqrt((1-AL)*BL/(AL*(1-BL))))\n",
    "    if np.any(rho > largest_rho):\n",
    "        raise ValueError('the largest valid rho for the specified AL and BL is {}. Please specify a rho that is smaller than the largest valid rho.'.format(\n",
    "            np.amin(largest_rho)))\n",
    "\n",
    "    AL = symmetrize(AL)\n",
    "    BL = symmetrize(BL)\n",
    "    A = sbm(k, AL)\n",
    "\n",
    "    AL_new = np.zeros_like(A)\n",
    "    BL_new = np.zeros_like(A)\n",
    "    block_indices = np.insert(np.cumsum(np.array(k)), 0, 0)\n",
    "    for i in range(AL.shape[0]):\n",
    "        for j in range(AL.shape[1]):\n",
    "            AL_new[block_indices[i]:block_indices[i+1], block_indices[j]:block_indices[j+1]] = AL[i, j]\n",
    "            BL_new[block_indices[i]:block_indices[i+1], block_indices[j]:block_indices[j+1]] = BL[i, j]\n",
    "\n",
    "    prob = BL_new + A*rho*np.sqrt((1-AL_new)*BL_new*(1-BL_new)/AL_new) - (1-A)*rho*np.sqrt(AL_new*BL_new*(1-BL_new)/(1-AL_new))\n",
    "    B = np.random.binomial(1, prob)\n",
    "    B = B.astype(np.float64)\n",
    "    B = symmetrize(B)\n",
    "    np.fill_diagonal(B, 0)\n",
    "    return A, B"
   ]
  },
  {
   "cell_type": "code",
   "execution_count": 68,
   "metadata": {},
   "outputs": [],
   "source": [
    "def off_diag_block_corr(A, B):\n",
    "    A = A.flatten()\n",
    "    B = B.flatten()\n",
    "    x = np.vstack((A, B))\n",
    "    return np.corrcoef(x)[0, 1]"
   ]
  },
  {
   "cell_type": "code",
   "execution_count": 77,
   "metadata": {},
   "outputs": [],
   "source": [
    "def sbm_corr_diff_block(A, B, k):\n",
    "    corr_sum = 0\n",
    "    n = A.shape[0]\n",
    "    block_indices = np.insert(np.cumsum(np.array(k)), 0, 0)\n",
    "    for i in range(len(k)):\n",
    "        for j in range(len(k)):\n",
    "            block1 = A[block_indices[i]:block_indices[i+1], block_indices[j]:block_indices[j+1]]\n",
    "            block2 = B[block_indices[i]:block_indices[i+1], block_indices[j]:block_indices[j+1]]\n",
    "            if i == j:\n",
    "                corr = ER_corr(block1, block2)\n",
    "            else:\n",
    "                corr = off_diag_block_corr(block1, block2)\n",
    "            corr_sum += corr \n",
    "    return corr_sum / np.square(len(k))"
   ]
  },
  {
   "cell_type": "code",
   "execution_count": 88,
   "metadata": {},
   "outputs": [],
   "source": [
    "rho = 0.3\n",
    "n = 100\n",
    "z = np.zeros(9)\n",
    "for i, num_vertices in enumerate(np.linspace(10, 90, 9)):\n",
    "    k = [int(num_vertices), 100-int(num_vertices)]\n",
    "    AL = np.array([[0.7, 0.3], [0.3, 0.7]])\n",
    "    BL = np.array([[0.5, 0.1], [0.1, 0.5]])\n",
    "    monte = np.zeros(10)\n",
    "    for j in range(10):\n",
    "        try:\n",
    "            A, B = rho_sbm_diff_block(rho, k, AL, BL, n)\n",
    "        except ValueError as e:\n",
    "            print(e)\n",
    "            continue\n",
    "        else:\n",
    "            monte[j] = sbm_corr_diff_block(A, B, k)\n",
    "    z[i] = rho - np.mean(monte)"
   ]
  },
  {
   "cell_type": "code",
   "execution_count": 89,
   "metadata": {},
   "outputs": [
    {
     "data": {
      "text/plain": [
       "array([ 0.01765558,  0.00240755,  0.00211513, -0.00329533, -0.00325872,\n",
       "        0.00214507, -0.00306775,  0.01311435, -0.00745742])"
      ]
     },
     "execution_count": 89,
     "metadata": {},
     "output_type": "execute_result"
    }
   ],
   "source": [
    "z"
   ]
  },
  {
   "cell_type": "code",
   "execution_count": 81,
   "metadata": {},
   "outputs": [],
   "source": [
    "k = [70, 30]\n",
    "A, B = rho_sbm_diff_block(0.3, k, AL=sbm_params(a=0.7, b=0.3), BL=sbm_params(a=0.7, b=0.3))"
   ]
  },
  {
   "cell_type": "code",
   "execution_count": 9,
   "metadata": {},
   "outputs": [
    {
     "data": {
      "text/plain": [
       "<matplotlib.axes._subplots.AxesSubplot at 0x127681908>"
      ]
     },
     "execution_count": 9,
     "metadata": {},
     "output_type": "execute_result"
    },
    {
     "data": {
      "image/png": "[encoded data removed]",
      "text/plain": [
       "<Figure size 576x432 with 2 Axes>"
      ]
     },
     "metadata": {
      "needs_background": "light"
     },
     "output_type": "display_data"
    }
   ],
   "source": [
    "heatmap(A, figsize=(8, 6))"
   ]
  },
  {
   "cell_type": "code",
   "execution_count": 50,
   "metadata": {},
   "outputs": [
    {
     "data": {
      "text/plain": [
       "<matplotlib.axes._subplots.AxesSubplot at 0x12a74def0>"
      ]
     },
     "execution_count": 50,
     "metadata": {},
     "output_type": "execute_result"
    },
    {
     "data": {
      "image/png": "[encoded data removed]",
      "text/plain": [
       "<Figure size 576x432 with 2 Axes>"
      ]
     },
     "metadata": {
      "needs_background": "light"
     },
     "output_type": "display_data"
    }
   ],
   "source": [
    "heatmap(B, figsize=(8, 6))"
   ]
  },
  {
   "cell_type": "code",
   "execution_count": 90,
   "metadata": {},
   "outputs": [],
   "source": [
    "def rho_sbm_power(indept_test, transform_func, rho, P1, P2, k, n, mc=500, alpha=0.05):\n",
    "    test_stat_null_array = np.zeros(mc)\n",
    "    test_stat_alt_array = np.zeros(mc)\n",
    "    for i in range(mc):\n",
    "        A, B = rho_sbm_diff_block(rho, k, P1, P2, n)\n",
    "        test_stat_alt, _ = indept_test.test_statistic(\n",
    "            matrix_X=transform_func(A), matrix_Y=transform_func(B))\n",
    "        test_stat_alt_array[i] = test_stat_alt\n",
    "\n",
    "        # generate the null by permutation\n",
    "        block_assignment = estimate_block_assignment(A, B)\n",
    "        A_null = block_permute(A, block_assignment)\n",
    "        test_stat_null, _ = indept_test.test_statistic(\n",
    "            matrix_X=transform_func(A_null), matrix_Y=transform_func(B))\n",
    "        test_stat_null_array[i] = test_stat_null\n",
    "    # if pearson, use the absolute value of test statistic then use one-sided\n",
    "    # rejection region\n",
    "    if indept_test.get_name() == 'pearson':\n",
    "        test_stat_null_array = np.absolute(test_stat_null_array)\n",
    "        test_stat_alt_array = np.absolute(test_stat_alt_array)\n",
    "    critical_value = np.sort(test_stat_null_array)[math.ceil((1-alpha)*mc)]\n",
    "    power = np.where(test_stat_alt_array > critical_value)[0].shape[0] / mc\n",
    "    return power"
   ]
  },
  {
   "cell_type": "code",
   "execution_count": 101,
   "metadata": {},
   "outputs": [
    {
     "name": "stderr",
     "output_type": "stream",
     "text": [
      "/Users/jxiong/Documents/Projects/graph_independence_test/env/lib/python3.7/site-packages/scipy/stats/_distn_infrastructure.py:1704: RuntimeWarning: invalid value encountered in true_divide\n",
      "  x = np.asarray((x - loc)/scale, dtype=dtyp)\n",
      "/Users/jxiong/Documents/Projects/graph_independence_test/env/lib/python3.7/site-packages/scipy/stats/_distn_infrastructure.py:874: RuntimeWarning: invalid value encountered in greater_equal\n",
      "  return (self.a <= x) & (x <= self.b)\n",
      "/Users/jxiong/Documents/Projects/graph_independence_test/env/lib/python3.7/site-packages/scipy/stats/_distn_infrastructure.py:874: RuntimeWarning: invalid value encountered in less_equal\n",
      "  return (self.a <= x) & (x <= self.b)\n",
      "/Users/jxiong/Documents/Projects/graph_independence_test/env/lib/python3.7/site-packages/scipy/stats/_distn_infrastructure.py:1704: RuntimeWarning: invalid value encountered in true_divide\n",
      "  x = np.asarray((x - loc)/scale, dtype=dtyp)\n",
      "/Users/jxiong/Documents/Projects/graph_independence_test/env/lib/python3.7/site-packages/scipy/stats/_distn_infrastructure.py:874: RuntimeWarning: invalid value encountered in greater_equal\n",
      "  return (self.a <= x) & (x <= self.b)\n",
      "/Users/jxiong/Documents/Projects/graph_independence_test/env/lib/python3.7/site-packages/scipy/stats/_distn_infrastructure.py:874: RuntimeWarning: invalid value encountered in less_equal\n",
      "  return (self.a <= x) & (x <= self.b)\n",
      "/Users/jxiong/Documents/Projects/graph_independence_test/env/lib/python3.7/site-packages/scipy/stats/_distn_infrastructure.py:1704: RuntimeWarning: invalid value encountered in true_divide\n",
      "  x = np.asarray((x - loc)/scale, dtype=dtyp)\n",
      "/Users/jxiong/Documents/Projects/graph_independence_test/env/lib/python3.7/site-packages/scipy/stats/_distn_infrastructure.py:874: RuntimeWarning: invalid value encountered in greater_equal\n",
      "  return (self.a <= x) & (x <= self.b)\n",
      "/Users/jxiong/Documents/Projects/graph_independence_test/env/lib/python3.7/site-packages/scipy/stats/_distn_infrastructure.py:874: RuntimeWarning: invalid value encountered in less_equal\n",
      "  return (self.a <= x) & (x <= self.b)\n"
     ]
    },
    {
     "name": "stdout",
     "output_type": "stream",
     "text": [
      "finish pearson for rho=0.0, n=10\n",
      "finish pearson for rho=0.0, n=20\n",
      "finish pearson for rho=0.0, n=30\n",
      "finish pearson for rho=0.0, n=40\n",
      "finish pearson for rho=0.0, n=50\n",
      "finish pearson for rho=0.0, n=60\n",
      "finish pearson for rho=0.0, n=70\n",
      "finish pearson for rho=0.0, n=80\n",
      "finish pearson for rho=0.0, n=90\n",
      "finish pearson for rho=0.0, n=100\n"
     ]
    },
    {
     "name": "stderr",
     "output_type": "stream",
     "text": [
      "/Users/jxiong/Documents/Projects/graph_independence_test/env/lib/python3.7/site-packages/scipy/stats/_distn_infrastructure.py:1704: RuntimeWarning: invalid value encountered in true_divide\n",
      "  x = np.asarray((x - loc)/scale, dtype=dtyp)\n",
      "/Users/jxiong/Documents/Projects/graph_independence_test/env/lib/python3.7/site-packages/scipy/stats/_distn_infrastructure.py:874: RuntimeWarning: invalid value encountered in greater_equal\n",
      "  return (self.a <= x) & (x <= self.b)\n",
      "/Users/jxiong/Documents/Projects/graph_independence_test/env/lib/python3.7/site-packages/scipy/stats/_distn_infrastructure.py:874: RuntimeWarning: invalid value encountered in less_equal\n",
      "  return (self.a <= x) & (x <= self.b)\n",
      "/Users/jxiong/Documents/Projects/graph_independence_test/env/lib/python3.7/site-packages/scipy/stats/_distn_infrastructure.py:1704: RuntimeWarning: invalid value encountered in true_divide\n",
      "  x = np.asarray((x - loc)/scale, dtype=dtyp)\n",
      "/Users/jxiong/Documents/Projects/graph_independence_test/env/lib/python3.7/site-packages/scipy/stats/_distn_infrastructure.py:874: RuntimeWarning: invalid value encountered in greater_equal\n",
      "  return (self.a <= x) & (x <= self.b)\n",
      "/Users/jxiong/Documents/Projects/graph_independence_test/env/lib/python3.7/site-packages/scipy/stats/_distn_infrastructure.py:874: RuntimeWarning: invalid value encountered in less_equal\n",
      "  return (self.a <= x) & (x <= self.b)\n",
      "/Users/jxiong/Documents/Projects/graph_independence_test/env/lib/python3.7/site-packages/scipy/stats/_distn_infrastructure.py:1704: RuntimeWarning: invalid value encountered in true_divide\n",
      "  x = np.asarray((x - loc)/scale, dtype=dtyp)\n",
      "/Users/jxiong/Documents/Projects/graph_independence_test/env/lib/python3.7/site-packages/scipy/stats/_distn_infrastructure.py:874: RuntimeWarning: invalid value encountered in greater_equal\n",
      "  return (self.a <= x) & (x <= self.b)\n",
      "/Users/jxiong/Documents/Projects/graph_independence_test/env/lib/python3.7/site-packages/scipy/stats/_distn_infrastructure.py:874: RuntimeWarning: invalid value encountered in less_equal\n",
      "  return (self.a <= x) & (x <= self.b)\n",
      "/Users/jxiong/Documents/Projects/graph_independence_test/env/lib/python3.7/site-packages/scipy/stats/_distn_infrastructure.py:1704: RuntimeWarning: invalid value encountered in true_divide\n",
      "  x = np.asarray((x - loc)/scale, dtype=dtyp)\n",
      "/Users/jxiong/Documents/Projects/graph_independence_test/env/lib/python3.7/site-packages/scipy/stats/_distn_infrastructure.py:874: RuntimeWarning: invalid value encountered in greater_equal\n",
      "  return (self.a <= x) & (x <= self.b)\n",
      "/Users/jxiong/Documents/Projects/graph_independence_test/env/lib/python3.7/site-packages/scipy/stats/_distn_infrastructure.py:874: RuntimeWarning: invalid value encountered in less_equal\n",
      "  return (self.a <= x) & (x <= self.b)\n",
      "/Users/jxiong/Documents/Projects/graph_independence_test/env/lib/python3.7/site-packages/scipy/stats/_distn_infrastructure.py:1704: RuntimeWarning: invalid value encountered in true_divide\n",
      "  x = np.asarray((x - loc)/scale, dtype=dtyp)\n",
      "/Users/jxiong/Documents/Projects/graph_independence_test/env/lib/python3.7/site-packages/scipy/stats/_distn_infrastructure.py:874: RuntimeWarning: invalid value encountered in greater_equal\n",
      "  return (self.a <= x) & (x <= self.b)\n",
      "/Users/jxiong/Documents/Projects/graph_independence_test/env/lib/python3.7/site-packages/scipy/stats/_distn_infrastructure.py:874: RuntimeWarning: invalid value encountered in less_equal\n",
      "  return (self.a <= x) & (x <= self.b)\n"
     ]
    },
    {
     "name": "stdout",
     "output_type": "stream",
     "text": [
      "finish pearson for rho=0.1, n=10\n",
      "finish pearson for rho=0.1, n=20\n",
      "finish pearson for rho=0.1, n=30\n",
      "finish pearson for rho=0.1, n=40\n",
      "finish pearson for rho=0.1, n=50\n",
      "finish pearson for rho=0.1, n=60\n",
      "finish pearson for rho=0.1, n=70\n",
      "finish pearson for rho=0.1, n=80\n",
      "finish pearson for rho=0.1, n=90\n",
      "finish pearson for rho=0.1, n=100\n"
     ]
    },
    {
     "name": "stderr",
     "output_type": "stream",
     "text": [
      "/Users/jxiong/Documents/Projects/graph_independence_test/env/lib/python3.7/site-packages/scipy/stats/_distn_infrastructure.py:1704: RuntimeWarning: invalid value encountered in true_divide\n",
      "  x = np.asarray((x - loc)/scale, dtype=dtyp)\n",
      "/Users/jxiong/Documents/Projects/graph_independence_test/env/lib/python3.7/site-packages/scipy/stats/_distn_infrastructure.py:874: RuntimeWarning: invalid value encountered in greater_equal\n",
      "  return (self.a <= x) & (x <= self.b)\n",
      "/Users/jxiong/Documents/Projects/graph_independence_test/env/lib/python3.7/site-packages/scipy/stats/_distn_infrastructure.py:874: RuntimeWarning: invalid value encountered in less_equal\n",
      "  return (self.a <= x) & (x <= self.b)\n",
      "/Users/jxiong/Documents/Projects/graph_independence_test/env/lib/python3.7/site-packages/scipy/stats/_distn_infrastructure.py:1704: RuntimeWarning: invalid value encountered in true_divide\n",
      "  x = np.asarray((x - loc)/scale, dtype=dtyp)\n",
      "/Users/jxiong/Documents/Projects/graph_independence_test/env/lib/python3.7/site-packages/scipy/stats/_distn_infrastructure.py:874: RuntimeWarning: invalid value encountered in greater_equal\n",
      "  return (self.a <= x) & (x <= self.b)\n",
      "/Users/jxiong/Documents/Projects/graph_independence_test/env/lib/python3.7/site-packages/scipy/stats/_distn_infrastructure.py:874: RuntimeWarning: invalid value encountered in less_equal\n",
      "  return (self.a <= x) & (x <= self.b)\n",
      "/Users/jxiong/Documents/Projects/graph_independence_test/env/lib/python3.7/site-packages/scipy/stats/_distn_infrastructure.py:1704: RuntimeWarning: invalid value encountered in true_divide\n",
      "  x = np.asarray((x - loc)/scale, dtype=dtyp)\n",
      "/Users/jxiong/Documents/Projects/graph_independence_test/env/lib/python3.7/site-packages/scipy/stats/_distn_infrastructure.py:874: RuntimeWarning: invalid value encountered in greater_equal\n",
      "  return (self.a <= x) & (x <= self.b)\n",
      "/Users/jxiong/Documents/Projects/graph_independence_test/env/lib/python3.7/site-packages/scipy/stats/_distn_infrastructure.py:874: RuntimeWarning: invalid value encountered in less_equal\n",
      "  return (self.a <= x) & (x <= self.b)\n",
      "/Users/jxiong/Documents/Projects/graph_independence_test/env/lib/python3.7/site-packages/scipy/stats/_distn_infrastructure.py:1704: RuntimeWarning: invalid value encountered in true_divide\n",
      "  x = np.asarray((x - loc)/scale, dtype=dtyp)\n",
      "/Users/jxiong/Documents/Projects/graph_independence_test/env/lib/python3.7/site-packages/scipy/stats/_distn_infrastructure.py:874: RuntimeWarning: invalid value encountered in greater_equal\n",
      "  return (self.a <= x) & (x <= self.b)\n",
      "/Users/jxiong/Documents/Projects/graph_independence_test/env/lib/python3.7/site-packages/scipy/stats/_distn_infrastructure.py:874: RuntimeWarning: invalid value encountered in less_equal\n",
      "  return (self.a <= x) & (x <= self.b)\n"
     ]
    },
    {
     "name": "stdout",
     "output_type": "stream",
     "text": [
      "finish dcorr for rho=0.0, n=10\n",
      "finish dcorr for rho=0.0, n=20\n",
      "finish dcorr for rho=0.0, n=30\n",
      "finish dcorr for rho=0.0, n=40\n",
      "finish dcorr for rho=0.0, n=50\n",
      "finish dcorr for rho=0.0, n=60\n",
      "finish dcorr for rho=0.0, n=70\n",
      "finish dcorr for rho=0.0, n=80\n",
      "finish dcorr for rho=0.0, n=90\n",
      "finish dcorr for rho=0.0, n=100\n"
     ]
    },
    {
     "name": "stderr",
     "output_type": "stream",
     "text": [
      "/Users/jxiong/Documents/Projects/graph_independence_test/env/lib/python3.7/site-packages/scipy/stats/_distn_infrastructure.py:1704: RuntimeWarning: invalid value encountered in true_divide\n",
      "  x = np.asarray((x - loc)/scale, dtype=dtyp)\n",
      "/Users/jxiong/Documents/Projects/graph_independence_test/env/lib/python3.7/site-packages/scipy/stats/_distn_infrastructure.py:874: RuntimeWarning: invalid value encountered in greater_equal\n",
      "  return (self.a <= x) & (x <= self.b)\n",
      "/Users/jxiong/Documents/Projects/graph_independence_test/env/lib/python3.7/site-packages/scipy/stats/_distn_infrastructure.py:874: RuntimeWarning: invalid value encountered in less_equal\n",
      "  return (self.a <= x) & (x <= self.b)\n",
      "/Users/jxiong/Documents/Projects/graph_independence_test/env/lib/python3.7/site-packages/scipy/stats/_distn_infrastructure.py:1704: RuntimeWarning: invalid value encountered in true_divide\n",
      "  x = np.asarray((x - loc)/scale, dtype=dtyp)\n",
      "/Users/jxiong/Documents/Projects/graph_independence_test/env/lib/python3.7/site-packages/scipy/stats/_distn_infrastructure.py:874: RuntimeWarning: invalid value encountered in greater_equal\n",
      "  return (self.a <= x) & (x <= self.b)\n",
      "/Users/jxiong/Documents/Projects/graph_independence_test/env/lib/python3.7/site-packages/scipy/stats/_distn_infrastructure.py:874: RuntimeWarning: invalid value encountered in less_equal\n",
      "  return (self.a <= x) & (x <= self.b)\n",
      "/Users/jxiong/Documents/Projects/graph_independence_test/env/lib/python3.7/site-packages/scipy/stats/_distn_infrastructure.py:1704: RuntimeWarning: invalid value encountered in true_divide\n",
      "  x = np.asarray((x - loc)/scale, dtype=dtyp)\n",
      "/Users/jxiong/Documents/Projects/graph_independence_test/env/lib/python3.7/site-packages/scipy/stats/_distn_infrastructure.py:874: RuntimeWarning: invalid value encountered in greater_equal\n",
      "  return (self.a <= x) & (x <= self.b)\n",
      "/Users/jxiong/Documents/Projects/graph_independence_test/env/lib/python3.7/site-packages/scipy/stats/_distn_infrastructure.py:874: RuntimeWarning: invalid value encountered in less_equal\n",
      "  return (self.a <= x) & (x <= self.b)\n",
      "/Users/jxiong/Documents/Projects/graph_independence_test/env/lib/python3.7/site-packages/scipy/stats/_distn_infrastructure.py:1704: RuntimeWarning: invalid value encountered in true_divide\n",
      "  x = np.asarray((x - loc)/scale, dtype=dtyp)\n",
      "/Users/jxiong/Documents/Projects/graph_independence_test/env/lib/python3.7/site-packages/scipy/stats/_distn_infrastructure.py:874: RuntimeWarning: invalid value encountered in greater_equal\n",
      "  return (self.a <= x) & (x <= self.b)\n",
      "/Users/jxiong/Documents/Projects/graph_independence_test/env/lib/python3.7/site-packages/scipy/stats/_distn_infrastructure.py:874: RuntimeWarning: invalid value encountered in less_equal\n",
      "  return (self.a <= x) & (x <= self.b)\n",
      "/Users/jxiong/Documents/Projects/graph_independence_test/env/lib/python3.7/site-packages/scipy/stats/_distn_infrastructure.py:1704: RuntimeWarning: invalid value encountered in true_divide\n",
      "  x = np.asarray((x - loc)/scale, dtype=dtyp)\n",
      "/Users/jxiong/Documents/Projects/graph_independence_test/env/lib/python3.7/site-packages/scipy/stats/_distn_infrastructure.py:874: RuntimeWarning: invalid value encountered in greater_equal\n",
      "  return (self.a <= x) & (x <= self.b)\n",
      "/Users/jxiong/Documents/Projects/graph_independence_test/env/lib/python3.7/site-packages/scipy/stats/_distn_infrastructure.py:874: RuntimeWarning: invalid value encountered in less_equal\n",
      "  return (self.a <= x) & (x <= self.b)\n"
     ]
    },
    {
     "name": "stdout",
     "output_type": "stream",
     "text": [
      "finish dcorr for rho=0.1, n=10\n",
      "finish dcorr for rho=0.1, n=20\n",
      "finish dcorr for rho=0.1, n=30\n",
      "finish dcorr for rho=0.1, n=40\n",
      "finish dcorr for rho=0.1, n=50\n",
      "finish dcorr for rho=0.1, n=60\n",
      "finish dcorr for rho=0.1, n=70\n",
      "finish dcorr for rho=0.1, n=80\n",
      "finish dcorr for rho=0.1, n=90\n",
      "finish dcorr for rho=0.1, n=100\n"
     ]
    },
    {
     "name": "stderr",
     "output_type": "stream",
     "text": [
      "/Users/jxiong/Documents/Projects/graph_independence_test/env/lib/python3.7/site-packages/scipy/stats/_distn_infrastructure.py:1704: RuntimeWarning: invalid value encountered in true_divide\n",
      "  x = np.asarray((x - loc)/scale, dtype=dtyp)\n",
      "/Users/jxiong/Documents/Projects/graph_independence_test/env/lib/python3.7/site-packages/scipy/stats/_distn_infrastructure.py:874: RuntimeWarning: invalid value encountered in greater_equal\n",
      "  return (self.a <= x) & (x <= self.b)\n",
      "/Users/jxiong/Documents/Projects/graph_independence_test/env/lib/python3.7/site-packages/scipy/stats/_distn_infrastructure.py:874: RuntimeWarning: invalid value encountered in less_equal\n",
      "  return (self.a <= x) & (x <= self.b)\n",
      "/Users/jxiong/Documents/Projects/graph_independence_test/env/lib/python3.7/site-packages/scipy/stats/_distn_infrastructure.py:1704: RuntimeWarning: invalid value encountered in true_divide\n",
      "  x = np.asarray((x - loc)/scale, dtype=dtyp)\n",
      "/Users/jxiong/Documents/Projects/graph_independence_test/env/lib/python3.7/site-packages/scipy/stats/_distn_infrastructure.py:874: RuntimeWarning: invalid value encountered in greater_equal\n",
      "  return (self.a <= x) & (x <= self.b)\n",
      "/Users/jxiong/Documents/Projects/graph_independence_test/env/lib/python3.7/site-packages/scipy/stats/_distn_infrastructure.py:874: RuntimeWarning: invalid value encountered in less_equal\n",
      "  return (self.a <= x) & (x <= self.b)\n",
      "/Users/jxiong/Documents/Projects/graph_independence_test/env/lib/python3.7/site-packages/scipy/stats/_distn_infrastructure.py:1704: RuntimeWarning: invalid value encountered in true_divide\n",
      "  x = np.asarray((x - loc)/scale, dtype=dtyp)\n",
      "/Users/jxiong/Documents/Projects/graph_independence_test/env/lib/python3.7/site-packages/scipy/stats/_distn_infrastructure.py:874: RuntimeWarning: invalid value encountered in greater_equal\n",
      "  return (self.a <= x) & (x <= self.b)\n",
      "/Users/jxiong/Documents/Projects/graph_independence_test/env/lib/python3.7/site-packages/scipy/stats/_distn_infrastructure.py:874: RuntimeWarning: invalid value encountered in less_equal\n",
      "  return (self.a <= x) & (x <= self.b)\n",
      "/Users/jxiong/Documents/Projects/graph_independence_test/env/lib/python3.7/site-packages/scipy/stats/_distn_infrastructure.py:1704: RuntimeWarning: invalid value encountered in true_divide\n",
      "  x = np.asarray((x - loc)/scale, dtype=dtyp)\n",
      "/Users/jxiong/Documents/Projects/graph_independence_test/env/lib/python3.7/site-packages/scipy/stats/_distn_infrastructure.py:874: RuntimeWarning: invalid value encountered in greater_equal\n",
      "  return (self.a <= x) & (x <= self.b)\n",
      "/Users/jxiong/Documents/Projects/graph_independence_test/env/lib/python3.7/site-packages/scipy/stats/_distn_infrastructure.py:874: RuntimeWarning: invalid value encountered in less_equal\n",
      "  return (self.a <= x) & (x <= self.b)\n",
      "/Users/jxiong/Documents/Projects/graph_independence_test/env/lib/python3.7/site-packages/scipy/stats/_distn_infrastructure.py:1704: RuntimeWarning: invalid value encountered in true_divide\n",
      "  x = np.asarray((x - loc)/scale, dtype=dtyp)\n",
      "/Users/jxiong/Documents/Projects/graph_independence_test/env/lib/python3.7/site-packages/scipy/stats/_distn_infrastructure.py:874: RuntimeWarning: invalid value encountered in greater_equal\n",
      "  return (self.a <= x) & (x <= self.b)\n",
      "/Users/jxiong/Documents/Projects/graph_independence_test/env/lib/python3.7/site-packages/scipy/stats/_distn_infrastructure.py:874: RuntimeWarning: invalid value encountered in less_equal\n",
      "  return (self.a <= x) & (x <= self.b)\n",
      "/Users/jxiong/Documents/Projects/graph_independence_test/env/lib/python3.7/site-packages/scipy/stats/_distn_infrastructure.py:1704: RuntimeWarning: invalid value encountered in true_divide\n",
      "  x = np.asarray((x - loc)/scale, dtype=dtyp)\n",
      "/Users/jxiong/Documents/Projects/graph_independence_test/env/lib/python3.7/site-packages/scipy/stats/_distn_infrastructure.py:874: RuntimeWarning: invalid value encountered in greater_equal\n",
      "  return (self.a <= x) & (x <= self.b)\n",
      "/Users/jxiong/Documents/Projects/graph_independence_test/env/lib/python3.7/site-packages/scipy/stats/_distn_infrastructure.py:874: RuntimeWarning: invalid value encountered in less_equal\n",
      "  return (self.a <= x) & (x <= self.b)\n"
     ]
    },
    {
     "name": "stdout",
     "output_type": "stream",
     "text": [
      "finish mgc for rho=0.0, n=10\n",
      "finish mgc for rho=0.0, n=20\n",
      "finish mgc for rho=0.0, n=30\n",
      "finish mgc for rho=0.0, n=40\n",
      "finish mgc for rho=0.0, n=50\n",
      "finish mgc for rho=0.0, n=60\n",
      "finish mgc for rho=0.0, n=70\n",
      "finish mgc for rho=0.0, n=80\n",
      "finish mgc for rho=0.0, n=90\n",
      "finish mgc for rho=0.0, n=100\n"
     ]
    },
    {
     "name": "stderr",
     "output_type": "stream",
     "text": [
      "/Users/jxiong/Documents/Projects/graph_independence_test/env/lib/python3.7/site-packages/scipy/stats/_distn_infrastructure.py:1704: RuntimeWarning: invalid value encountered in true_divide\n",
      "  x = np.asarray((x - loc)/scale, dtype=dtyp)\n",
      "/Users/jxiong/Documents/Projects/graph_independence_test/env/lib/python3.7/site-packages/scipy/stats/_distn_infrastructure.py:874: RuntimeWarning: invalid value encountered in greater_equal\n",
      "  return (self.a <= x) & (x <= self.b)\n",
      "/Users/jxiong/Documents/Projects/graph_independence_test/env/lib/python3.7/site-packages/scipy/stats/_distn_infrastructure.py:874: RuntimeWarning: invalid value encountered in less_equal\n",
      "  return (self.a <= x) & (x <= self.b)\n",
      "/Users/jxiong/Documents/Projects/graph_independence_test/env/lib/python3.7/site-packages/scipy/stats/_distn_infrastructure.py:1704: RuntimeWarning: invalid value encountered in true_divide\n",
      "  x = np.asarray((x - loc)/scale, dtype=dtyp)\n",
      "/Users/jxiong/Documents/Projects/graph_independence_test/env/lib/python3.7/site-packages/scipy/stats/_distn_infrastructure.py:874: RuntimeWarning: invalid value encountered in greater_equal\n",
      "  return (self.a <= x) & (x <= self.b)\n",
      "/Users/jxiong/Documents/Projects/graph_independence_test/env/lib/python3.7/site-packages/scipy/stats/_distn_infrastructure.py:874: RuntimeWarning: invalid value encountered in less_equal\n",
      "  return (self.a <= x) & (x <= self.b)\n",
      "/Users/jxiong/Documents/Projects/graph_independence_test/env/lib/python3.7/site-packages/scipy/stats/_distn_infrastructure.py:1704: RuntimeWarning: invalid value encountered in true_divide\n",
      "  x = np.asarray((x - loc)/scale, dtype=dtyp)\n",
      "/Users/jxiong/Documents/Projects/graph_independence_test/env/lib/python3.7/site-packages/scipy/stats/_distn_infrastructure.py:874: RuntimeWarning: invalid value encountered in greater_equal\n",
      "  return (self.a <= x) & (x <= self.b)\n",
      "/Users/jxiong/Documents/Projects/graph_independence_test/env/lib/python3.7/site-packages/scipy/stats/_distn_infrastructure.py:874: RuntimeWarning: invalid value encountered in less_equal\n",
      "  return (self.a <= x) & (x <= self.b)\n",
      "/Users/jxiong/Documents/Projects/graph_independence_test/env/lib/python3.7/site-packages/scipy/stats/_distn_infrastructure.py:1704: RuntimeWarning: invalid value encountered in true_divide\n",
      "  x = np.asarray((x - loc)/scale, dtype=dtyp)\n",
      "/Users/jxiong/Documents/Projects/graph_independence_test/env/lib/python3.7/site-packages/scipy/stats/_distn_infrastructure.py:874: RuntimeWarning: invalid value encountered in greater_equal\n",
      "  return (self.a <= x) & (x <= self.b)\n",
      "/Users/jxiong/Documents/Projects/graph_independence_test/env/lib/python3.7/site-packages/scipy/stats/_distn_infrastructure.py:874: RuntimeWarning: invalid value encountered in less_equal\n",
      "  return (self.a <= x) & (x <= self.b)\n"
     ]
    },
    {
     "name": "stdout",
     "output_type": "stream",
     "text": [
      "finish mgc for rho=0.1, n=10\n",
      "finish mgc for rho=0.1, n=20\n",
      "finish mgc for rho=0.1, n=30\n",
      "finish mgc for rho=0.1, n=40\n",
      "finish mgc for rho=0.1, n=50\n",
      "finish mgc for rho=0.1, n=60\n",
      "finish mgc for rho=0.1, n=70\n",
      "finish mgc for rho=0.1, n=80\n",
      "finish mgc for rho=0.1, n=90\n",
      "finish mgc for rho=0.1, n=100\n",
      "CPU times: user 22min 7s, sys: 1min 37s, total: 23min 44s\n",
      "Wall time: 12min 9s\n"
     ]
    }
   ],
   "source": [
    "%%time\n",
    "n_arr = np.linspace(10, 100, 10, dtype=int)\n",
    "rho_arr = np.array([0, 0.1])\n",
    "P1 = sbm_params(a=0.7, b=0.3)\n",
    "P2 = sbm_params(a=0.2, b=0.5)\n",
    "test_names = ['pearson', 'dcorr', 'mgc']\n",
    "power_sbm = {\n",
    "    'pearson': np.zeros((rho_arr.shape[0], n_arr.shape[0])),\n",
    "    'dcorr': np.zeros((rho_arr.shape[0], n_arr.shape[0])),\n",
    "    'mgc': np.zeros((rho_arr.shape[0], n_arr.shape[0]))\n",
    "}\n",
    "\n",
    "for name in test_names:\n",
    "    for i, rho in enumerate(rho_arr):\n",
    "        for j, n in enumerate(n_arr):\n",
    "            k = [int(0.7*n), n-int(0.7*n)]\n",
    "            if name == 'pearson':\n",
    "                test = RVCorr(which_test='pearson')\n",
    "                test_power = rho_sbm_power(test, triu_no_diag, rho=rho, P1=P1, P2=P2, k=k, n=n)\n",
    "            elif name == 'dcorr':\n",
    "                test = DCorr(compute_distance_matrix=identity)\n",
    "                test_power = rho_sbm_power(test, to_distance_mtx, rho=rho, P1=P1, P2=P2, k=k, n=n)\n",
    "            elif name == 'mgc':\n",
    "                test = MGC(compute_distance_matrix=identity)\n",
    "                test_power = rho_sbm_power(test, to_distance_mtx, rho=rho, P1=P1, P2=P2, k=k, n=n)\n",
    "            power_sbm[name][i, j] = test_power\n",
    "            print('finish {} for rho={}, n={}'.format(name, rho, n))"
   ]
  },
  {
   "cell_type": "code",
   "execution_count": 102,
   "metadata": {},
   "outputs": [
    {
     "data": {
      "text/plain": [
       "{'pearson': array([[0.072, 0.196, 0.052, 0.066, 0.078, 0.052, 0.054, 0.052, 0.078,\n",
       "         0.044],\n",
       "        [0.072, 0.024, 0.   , 0.   , 0.   , 0.   , 0.   , 0.   , 0.   ,\n",
       "         0.   ]]),\n",
       " 'dcorr': array([[0.004, 0.   , 0.   , 0.002, 0.042, 0.038, 0.052, 0.052, 0.056,\n",
       "         0.054],\n",
       "        [0.028, 0.042, 0.108, 0.638, 0.932, 0.978, 0.994, 1.   , 1.   ,\n",
       "         1.   ]]),\n",
       " 'mgc': array([[0.01 , 0.002, 0.002, 0.01 , 0.056, 0.048, 0.06 , 0.052, 0.054,\n",
       "         0.038],\n",
       "        [0.024, 0.028, 0.084, 0.656, 0.932, 0.962, 0.996, 1.   , 0.998,\n",
       "         1.   ]])}"
      ]
     },
     "execution_count": 102,
     "metadata": {},
     "output_type": "execute_result"
    }
   ],
   "source": [
    "power_sbm"
   ]
  },
  {
   "cell_type": "code",
   "execution_count": 104,
   "metadata": {},
   "outputs": [
    {
     "data": {
      "text/plain": [
       "<Figure size 576x432 with 0 Axes>"
      ]
     },
     "metadata": {},
     "output_type": "display_data"
    }
   ],
   "source": [
    "n_arr = np.linspace(10, 100, 10, dtype=int)\n",
    "mpl.style.use('seaborn')\n",
    "\n",
    "plt.figure(figsize=(8, 6))\n",
    "colors = {\n",
    "    'mgc': 'red',\n",
    "    'dcorr': 'blue', \n",
    "    'pearson': 'orange'\n",
    "}"
   ]
  },
  {
   "cell_type": "code",
   "execution_count": 105,
   "metadata": {},
   "outputs": [],
   "source": [
    "with open('../data/rho_sbm_diff_block_power.pkl', 'rb') as f:\n",
    "    power_results = pickle.load(f)"
   ]
  },
  {
   "cell_type": "code",
   "execution_count": 106,
   "metadata": {},
   "outputs": [
    {
     "data": {
      "image/png": "[encoded data removed]",
      "text/plain": [
       "<Figure size 576x396 with 1 Axes>"
      ]
     },
     "metadata": {},
     "output_type": "display_data"
    }
   ],
   "source": [
    "rho = 0\n",
    "for name, test_power in power_results.items():\n",
    "        plt.plot(n_arr, test_power[0, :], color=colors[name], linestyle='-', marker='.', label='{}'.format(name))\n",
    "\n",
    "plt.hlines(y=0.05, xmin=np.amin(n_arr), xmax=np.amax(n_arr), label='alpha')\n",
    "plt.legend(loc=4)\n",
    "plt.xlabel('n')\n",
    "plt.ylabel('power')\n",
    "plt.savefig('../figures/sbm_diff_block_power_null.png', bbox_inches='tight')"
   ]
  },
  {
   "cell_type": "code",
   "execution_count": 107,
   "metadata": {},
   "outputs": [
    {
     "data": {
      "image/png": "[encoded data removed]",
      "text/plain": [
       "<Figure size 576x396 with 1 Axes>"
      ]
     },
     "metadata": {},
     "output_type": "display_data"
    }
   ],
   "source": [
    "rho = 0.1\n",
    "for name, test_power in power_results.items():\n",
    "        plt.plot(n_arr, test_power[1, :], color=colors[name], linestyle='-', marker='.', label='{}'.format(name))\n",
    "\n",
    "plt.hlines(y=1, xmin=np.amin(n_arr), xmax=np.amax(n_arr))\n",
    "plt.legend(loc=7)\n",
    "plt.xlabel('n')\n",
    "plt.ylabel('power')\n",
    "plt.savefig('../figures/sbm_diff_block_power_alt.png'.format(rho), bbox_inches='tight')"
   ]
  },
  {
   "cell_type": "code",
   "execution_count": null,
   "metadata": {},
   "outputs": [],
   "source": []
  }
 ],
 "metadata": {
  "kernelspec": {
   "display_name": "Python 3",
   "language": "python",
   "name": "python3"
  },
  "language_info": {
   "codemirror_mode": {
    "name": "ipython",
    "version": 3
   },
   "file_extension": ".py",
   "mimetype": "text/x-python",
   "name": "python",
   "nbconvert_exporter": "python",
   "pygments_lexer": "ipython3",
   "version": "3.7.2"
  }
 },
 "nbformat": 4,
 "nbformat_minor": 2
}
